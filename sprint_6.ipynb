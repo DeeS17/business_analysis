{
  "cells": [
    {
      "cell_type": "markdown",
      "metadata": {
        "id": "view-in-github",
        "colab_type": "text"
      },
      "source": [
        "<a href=\"https://colab.research.google.com/github/DeeS17/business_analysis/blob/main/sprint_6.ipynb\" target=\"_parent\"><img src=\"https://colab.research.google.com/assets/colab-badge.svg\" alt=\"Open In Colab\"/></a>"
      ]
    },
    {
      "cell_type": "markdown",
      "metadata": {
        "id": "-_aw7cJxCB8P"
      },
      "source": [
        "# Konten\n",
        "* Tahap 1: Pra-Pemrosesn Data\n",
        "* Tahap 2: Memuat Data\n",
        "  * Kesimpulan Memuat Data\n",
        "* Tahap 3: Analisa\n",
        "  * Analisa Metrik Aktivitas Pengguna Terhadap Produk\n",
        "    * Jumlah Pengguna Aktif Harian, Mingguan, dan Bulanan\n",
        "    * Jumlah Sesi per Hari\n",
        "    * Durasi Dalam setiap Sesi\n",
        "    * Seberapa Sering Pengguna Kembali Menggunakan Aplikasi\n",
        "    * Kesimpulan Aktivitas Pengguna\n",
        "  * Analisa Penjualan\n",
        "    * Konversi\n",
        "    * Jumlah Pesanan per Bulan Berdasarkan Cohort\n",
        "    * Rata-Rata Pendapatan per Bulan Berdasarkan Cohort\n",
        "    * Analisa Lifetime Value (LTV) Pengguna Situs Y.Afisha\n",
        "    * Kesimpulan Analisa Penjualan\n",
        "  * Analisa Pemasaran\n",
        "    * Analisa Biaya Pemasaran per Bulan Berdasarkan Sumber\n",
        "    * Analisa Biaya Akuisisi Pelanggan Berdasarkan Sumber\n",
        "    * Analisa ROI dari Biaya Pemasaran\n",
        "    * Kesimpulan Analisa Pemasaran"
      ]
    },
    {
      "cell_type": "markdown",
      "metadata": {
        "id": "WhyRNWEiCB8V"
      },
      "source": [
        "# Pendahuluan"
      ]
    },
    {
      "cell_type": "markdown",
      "source": [
        "Y.Afisha, sebuah aplikasi yang tidak hanya memfasilitasi para penggunanya untuk mendapatkan informasi seputar event penting seperti pertunjukan film, pameran, konser, dll. Aplikasi ini juga memfasilitasi pembelian tiketnya. Untuk dapat mengetahui bagaimanakah perilaku penggunanya saya akan mengeksplorasi melaui data kunjungan dan pembelian. Selain itu kunjungan pengguna juga didapatkan karena Y.Afisha mengiklankan aplikasinya. Iklan tersebut memakan biaya yang biayanya sebaiknya tidak lebih dari pendapatan yang didapatkan."
      ],
      "metadata": {
        "id": "ot6XC7f9R5uF"
      }
    },
    {
      "cell_type": "markdown",
      "metadata": {
        "id": "UNHn1YfRCB8W"
      },
      "source": [
        "# Tujuan"
      ]
    },
    {
      "cell_type": "markdown",
      "source": [
        "Tujuan dari proyek ini adalah mengetahui berapa banyak dan kemana saja uang pemasaran harus diinvestasikan."
      ],
      "metadata": {
        "id": "Uggn02b2TSmx"
      }
    },
    {
      "cell_type": "markdown",
      "metadata": {
        "id": "uzlXJEp1CB8W"
      },
      "source": [
        "# Tahapan"
      ]
    },
    {
      "cell_type": "markdown",
      "source": [
        "* Pra-Pemrosesan Data\n",
        "* Memuat Data\n",
        "* Analisa"
      ],
      "metadata": {
        "id": "0xJ3_46zTxAD"
      }
    },
    {
      "cell_type": "markdown",
      "metadata": {
        "id": "MSyvuffiCB8X"
      },
      "source": [
        "## Pra-Pemrosesan Data"
      ]
    },
    {
      "cell_type": "code",
      "execution_count": null,
      "metadata": {
        "id": "YQFjvH2BCB8X"
      },
      "outputs": [],
      "source": [
        "import pandas as pd\n",
        "import matplotlib.pyplot as plt\n",
        "import seaborn as sns\n",
        "import numpy as np"
      ]
    },
    {
      "cell_type": "markdown",
      "metadata": {
        "id": "_LDxLD9SCB8Z"
      },
      "source": [
        "## Memuat Data"
      ]
    },
    {
      "cell_type": "code",
      "execution_count": null,
      "metadata": {
        "colab": {
          "base_uri": "https://localhost:8080/"
        },
        "id": "1zt6P_GHCB8a",
        "outputId": "c47f1ba9-3e30-4440-f4e1-ee6ecff15752"
      },
      "outputs": [
        {
          "output_type": "stream",
          "name": "stdout",
          "text": [
            "<class 'pandas.core.frame.DataFrame'>\n",
            "RangeIndex: 359400 entries, 0 to 359399\n",
            "Data columns (total 5 columns):\n",
            " #   Column     Non-Null Count   Dtype         \n",
            "---  ------     --------------   -----         \n",
            " 0   device     359400 non-null  category      \n",
            " 1   end_ts     359400 non-null  datetime64[ns]\n",
            " 2   source_id  359400 non-null  int64         \n",
            " 3   start_ts   359400 non-null  datetime64[ns]\n",
            " 4   uid        359400 non-null  uint64        \n",
            "dtypes: category(1), datetime64[ns](2), int64(1), uint64(1)\n",
            "memory usage: 11.3 MB\n"
          ]
        }
      ],
      "source": [
        "try:\n",
        "  visits = pd.read_csv('/datasets/visits_log_us.csv', dtype={'Device': 'category'}, parse_dates=['Start Ts', 'End Ts'])\n",
        "except:\n",
        "  visits = pd.read_csv('/content/visits_log_us.csv', dtype={'Device': 'category'}, parse_dates=['Start Ts', 'End Ts'])\n",
        "\n",
        "visits.columns = ['device', 'end_ts', 'source_id', 'start_ts', 'uid']\n",
        "visits.info(memory_usage='deep')"
      ]
    },
    {
      "cell_type": "markdown",
      "metadata": {
        "id": "xDrcFs-ICB8b"
      },
      "source": [
        "`Dataframe visits` terdiri dari kolom `device`, `end_ts`, `source_id`, `start_ts`, dan `uid`. `Dataframe` memiliki `359,400` baris. Tidak ada data yang hilang dan tipe datanya telah disesuakan ketika memuat data.  "
      ]
    },
    {
      "cell_type": "code",
      "execution_count": null,
      "metadata": {
        "colab": {
          "base_uri": "https://localhost:8080/"
        },
        "id": "wVlNyLCECB8c",
        "outputId": "9507aa5d-51c2-46a3-dc5d-58d3adbd20a5"
      },
      "outputs": [
        {
          "output_type": "stream",
          "name": "stdout",
          "text": [
            "<class 'pandas.core.frame.DataFrame'>\n",
            "RangeIndex: 50415 entries, 0 to 50414\n",
            "Data columns (total 3 columns):\n",
            " #   Column   Non-Null Count  Dtype         \n",
            "---  ------   --------------  -----         \n",
            " 0   buy_ts   50415 non-null  datetime64[ns]\n",
            " 1   revenue  50415 non-null  float64       \n",
            " 2   uid      50415 non-null  uint64        \n",
            "dtypes: datetime64[ns](1), float64(1), uint64(1)\n",
            "memory usage: 1.2 MB\n"
          ]
        }
      ],
      "source": [
        "try:\n",
        "  orders = pd.read_csv('/datasets/orders_log_us.csv', parse_dates=['Buy Ts'])\n",
        "except:\n",
        "  orders = pd.read_csv('/content/orders_log_us.csv', parse_dates=['Buy Ts'])\n",
        "\n",
        "orders.columns = ['buy_ts', 'revenue', 'uid']\n",
        "orders.info(memory_usage='deep')"
      ]
    },
    {
      "cell_type": "markdown",
      "metadata": {
        "id": "k6aq2ClMCB8d"
      },
      "source": [
        "`Dataframe orders` terdiri dari kolom `buy_ts`, `revenue`, dan `uid`. `Dataframe` terdiri `50,415` baris. Tidak data yang hilang dan tipe datanya telah disesuaikan ketika memuat data."
      ]
    },
    {
      "cell_type": "code",
      "execution_count": null,
      "metadata": {
        "colab": {
          "base_uri": "https://localhost:8080/"
        },
        "id": "jxx5cEh8CB8d",
        "outputId": "6d85cb68-8c52-4b45-b167-98585c5d9d4c"
      },
      "outputs": [
        {
          "output_type": "stream",
          "name": "stdout",
          "text": [
            "<class 'pandas.core.frame.DataFrame'>\n",
            "RangeIndex: 2542 entries, 0 to 2541\n",
            "Data columns (total 3 columns):\n",
            " #   Column     Non-Null Count  Dtype         \n",
            "---  ------     --------------  -----         \n",
            " 0   source_id  2542 non-null   int64         \n",
            " 1   dt         2542 non-null   datetime64[ns]\n",
            " 2   costs      2542 non-null   float64       \n",
            "dtypes: datetime64[ns](1), float64(1), int64(1)\n",
            "memory usage: 59.7 KB\n"
          ]
        }
      ],
      "source": [
        "try:\n",
        "  costs = pd.read_csv('/datasets/costs_us.csv', parse_dates=['dt'])\n",
        "except:\n",
        "  costs = pd.read_csv('/content/costs_us.csv', parse_dates=['dt'])\n",
        "\n",
        "costs.info(memory_usage='deep')"
      ]
    },
    {
      "cell_type": "markdown",
      "metadata": {
        "id": "XU763kZBCB8e"
      },
      "source": [
        "`Dataframe costs` terdiri dari kolom `source_id`, `dt`, dan `costs`. `Dataframe` terdiri dari `2,542` baris. Tidak ada data yang hilang dan tipe datanya telah disesuaikan ketika memuat data."
      ]
    },
    {
      "cell_type": "markdown",
      "metadata": {
        "id": "fHfwpk_mCB8e"
      },
      "source": [
        "### Kesimpulan Memuat Data"
      ]
    },
    {
      "cell_type": "markdown",
      "metadata": {
        "id": "SiyLed28CB8f"
      },
      "source": [
        "Data terdiri dari 3 buah tabel `dataframe` yang masing-masing bernama `visits`, `orders` dan `costs`. Dari Ketiga tabel masing-masing menjelaskan hal yang berikut:\n",
        "- `visits` menjelaskan jumlah kunjungan pengguna ke situs `Y.Afisha`. Dalam tabel tersebut juga dijelaskan waktu pengunjung datang, waktu pengunjung keluar, perangkat yang digunakan, sumber iklan yang membawa pengunjung datang ke situs web, dan user id dari pengguna.\n",
        "- `orders` menjelaskan tentang pembelian yang dilakukan oleh customer. Dalam tabel tersebut memuat informasi waktu transaksi dibuat, nilai transaksi, dan user id pengguna.\n",
        "- `costs` menjelaskan tentang biaya iklan. Dlaman tabel tersebut memuat informasi tanggal biaya iklan dibukukan, sumber iklan, dan biaya iklan yang dikeluarkan.\n",
        "\n",
        "Selain beberapa informasi yang saya dapat dari ketiga `dataframe` tersebut:\n",
        "- Dari ketiga `dataframe` tersebut tidak ada nilai yang hilang.\n",
        "- Dilakukan penyesuaian tipe data `object` mejadi `datetime` pada beberapa kolom di ketiga tabel tersebut. \n",
        "- Penyesuaian data juga dilakukan pada tipe data `object` menjadi `category` pada kolom `device` di tabel `visits`.\n",
        "- Penyesuaian data juga membantu mengoptimalkan data menjadi lebih efisien. "
      ]
    },
    {
      "cell_type": "markdown",
      "metadata": {
        "id": "38DPENnQCB8f"
      },
      "source": [
        "## Analisa Data"
      ]
    },
    {
      "cell_type": "markdown",
      "metadata": {
        "id": "06NXGzMTCB8f"
      },
      "source": [
        "### Analisa Metrik Aktivitas Pengguna Terhadap Produk"
      ]
    },
    {
      "cell_type": "markdown",
      "metadata": {
        "id": "i7FTP0h0CB8g"
      },
      "source": [
        "#### Jumlah Pengguna Aktif Harian, Mingguan, dan Bulanan "
      ]
    },
    {
      "cell_type": "code",
      "execution_count": null,
      "metadata": {
        "colab": {
          "base_uri": "https://localhost:8080/",
          "height": 206
        },
        "id": "QMJJS1U3CB8g",
        "outputId": "aee85cae-793d-49a1-8669-59eae58d588b"
      },
      "outputs": [
        {
          "output_type": "execute_result",
          "data": {
            "text/plain": [
              "    device              end_ts  source_id            start_ts  \\\n",
              "0    touch 2017-12-20 17:38:00          4 2017-12-20 17:20:00   \n",
              "1  desktop 2018-02-19 17:21:00          2 2018-02-19 16:53:00   \n",
              "2    touch 2017-07-01 01:54:00          5 2017-07-01 01:54:00   \n",
              "3  desktop 2018-05-20 11:23:00          9 2018-05-20 10:59:00   \n",
              "4  desktop 2017-12-27 14:06:00          3 2017-12-27 14:06:00   \n",
              "\n",
              "                    uid  year_ts  month_ts  week_ts     date_ts  \n",
              "0  16879256277535980062     2017        12       51  2017-12-20  \n",
              "1    104060357244891740     2018         2        8  2018-02-19  \n",
              "2   7459035603376831527     2017         7       26  2017-07-01  \n",
              "3  16174680259334210214     2018         5       20  2018-05-20  \n",
              "4   9969694820036681168     2017        12       52  2017-12-27  "
            ],
            "text/html": [
              "\n",
              "  <div id=\"df-8634b653-4f55-4a23-a7e4-d1153401cfc0\">\n",
              "    <div class=\"colab-df-container\">\n",
              "      <div>\n",
              "<style scoped>\n",
              "    .dataframe tbody tr th:only-of-type {\n",
              "        vertical-align: middle;\n",
              "    }\n",
              "\n",
              "    .dataframe tbody tr th {\n",
              "        vertical-align: top;\n",
              "    }\n",
              "\n",
              "    .dataframe thead th {\n",
              "        text-align: right;\n",
              "    }\n",
              "</style>\n",
              "<table border=\"1\" class=\"dataframe\">\n",
              "  <thead>\n",
              "    <tr style=\"text-align: right;\">\n",
              "      <th></th>\n",
              "      <th>device</th>\n",
              "      <th>end_ts</th>\n",
              "      <th>source_id</th>\n",
              "      <th>start_ts</th>\n",
              "      <th>uid</th>\n",
              "      <th>year_ts</th>\n",
              "      <th>month_ts</th>\n",
              "      <th>week_ts</th>\n",
              "      <th>date_ts</th>\n",
              "    </tr>\n",
              "  </thead>\n",
              "  <tbody>\n",
              "    <tr>\n",
              "      <th>0</th>\n",
              "      <td>touch</td>\n",
              "      <td>2017-12-20 17:38:00</td>\n",
              "      <td>4</td>\n",
              "      <td>2017-12-20 17:20:00</td>\n",
              "      <td>16879256277535980062</td>\n",
              "      <td>2017</td>\n",
              "      <td>12</td>\n",
              "      <td>51</td>\n",
              "      <td>2017-12-20</td>\n",
              "    </tr>\n",
              "    <tr>\n",
              "      <th>1</th>\n",
              "      <td>desktop</td>\n",
              "      <td>2018-02-19 17:21:00</td>\n",
              "      <td>2</td>\n",
              "      <td>2018-02-19 16:53:00</td>\n",
              "      <td>104060357244891740</td>\n",
              "      <td>2018</td>\n",
              "      <td>2</td>\n",
              "      <td>8</td>\n",
              "      <td>2018-02-19</td>\n",
              "    </tr>\n",
              "    <tr>\n",
              "      <th>2</th>\n",
              "      <td>touch</td>\n",
              "      <td>2017-07-01 01:54:00</td>\n",
              "      <td>5</td>\n",
              "      <td>2017-07-01 01:54:00</td>\n",
              "      <td>7459035603376831527</td>\n",
              "      <td>2017</td>\n",
              "      <td>7</td>\n",
              "      <td>26</td>\n",
              "      <td>2017-07-01</td>\n",
              "    </tr>\n",
              "    <tr>\n",
              "      <th>3</th>\n",
              "      <td>desktop</td>\n",
              "      <td>2018-05-20 11:23:00</td>\n",
              "      <td>9</td>\n",
              "      <td>2018-05-20 10:59:00</td>\n",
              "      <td>16174680259334210214</td>\n",
              "      <td>2018</td>\n",
              "      <td>5</td>\n",
              "      <td>20</td>\n",
              "      <td>2018-05-20</td>\n",
              "    </tr>\n",
              "    <tr>\n",
              "      <th>4</th>\n",
              "      <td>desktop</td>\n",
              "      <td>2017-12-27 14:06:00</td>\n",
              "      <td>3</td>\n",
              "      <td>2017-12-27 14:06:00</td>\n",
              "      <td>9969694820036681168</td>\n",
              "      <td>2017</td>\n",
              "      <td>12</td>\n",
              "      <td>52</td>\n",
              "      <td>2017-12-27</td>\n",
              "    </tr>\n",
              "  </tbody>\n",
              "</table>\n",
              "</div>\n",
              "      <button class=\"colab-df-convert\" onclick=\"convertToInteractive('df-8634b653-4f55-4a23-a7e4-d1153401cfc0')\"\n",
              "              title=\"Convert this dataframe to an interactive table.\"\n",
              "              style=\"display:none;\">\n",
              "        \n",
              "  <svg xmlns=\"http://www.w3.org/2000/svg\" height=\"24px\"viewBox=\"0 0 24 24\"\n",
              "       width=\"24px\">\n",
              "    <path d=\"M0 0h24v24H0V0z\" fill=\"none\"/>\n",
              "    <path d=\"M18.56 5.44l.94 2.06.94-2.06 2.06-.94-2.06-.94-.94-2.06-.94 2.06-2.06.94zm-11 1L8.5 8.5l.94-2.06 2.06-.94-2.06-.94L8.5 2.5l-.94 2.06-2.06.94zm10 10l.94 2.06.94-2.06 2.06-.94-2.06-.94-.94-2.06-.94 2.06-2.06.94z\"/><path d=\"M17.41 7.96l-1.37-1.37c-.4-.4-.92-.59-1.43-.59-.52 0-1.04.2-1.43.59L10.3 9.45l-7.72 7.72c-.78.78-.78 2.05 0 2.83L4 21.41c.39.39.9.59 1.41.59.51 0 1.02-.2 1.41-.59l7.78-7.78 2.81-2.81c.8-.78.8-2.07 0-2.86zM5.41 20L4 18.59l7.72-7.72 1.47 1.35L5.41 20z\"/>\n",
              "  </svg>\n",
              "      </button>\n",
              "      \n",
              "  <style>\n",
              "    .colab-df-container {\n",
              "      display:flex;\n",
              "      flex-wrap:wrap;\n",
              "      gap: 12px;\n",
              "    }\n",
              "\n",
              "    .colab-df-convert {\n",
              "      background-color: #E8F0FE;\n",
              "      border: none;\n",
              "      border-radius: 50%;\n",
              "      cursor: pointer;\n",
              "      display: none;\n",
              "      fill: #1967D2;\n",
              "      height: 32px;\n",
              "      padding: 0 0 0 0;\n",
              "      width: 32px;\n",
              "    }\n",
              "\n",
              "    .colab-df-convert:hover {\n",
              "      background-color: #E2EBFA;\n",
              "      box-shadow: 0px 1px 2px rgba(60, 64, 67, 0.3), 0px 1px 3px 1px rgba(60, 64, 67, 0.15);\n",
              "      fill: #174EA6;\n",
              "    }\n",
              "\n",
              "    [theme=dark] .colab-df-convert {\n",
              "      background-color: #3B4455;\n",
              "      fill: #D2E3FC;\n",
              "    }\n",
              "\n",
              "    [theme=dark] .colab-df-convert:hover {\n",
              "      background-color: #434B5C;\n",
              "      box-shadow: 0px 1px 3px 1px rgba(0, 0, 0, 0.15);\n",
              "      filter: drop-shadow(0px 1px 2px rgba(0, 0, 0, 0.3));\n",
              "      fill: #FFFFFF;\n",
              "    }\n",
              "  </style>\n",
              "\n",
              "      <script>\n",
              "        const buttonEl =\n",
              "          document.querySelector('#df-8634b653-4f55-4a23-a7e4-d1153401cfc0 button.colab-df-convert');\n",
              "        buttonEl.style.display =\n",
              "          google.colab.kernel.accessAllowed ? 'block' : 'none';\n",
              "\n",
              "        async function convertToInteractive(key) {\n",
              "          const element = document.querySelector('#df-8634b653-4f55-4a23-a7e4-d1153401cfc0');\n",
              "          const dataTable =\n",
              "            await google.colab.kernel.invokeFunction('convertToInteractive',\n",
              "                                                     [key], {});\n",
              "          if (!dataTable) return;\n",
              "\n",
              "          const docLinkHtml = 'Like what you see? Visit the ' +\n",
              "            '<a target=\"_blank\" href=https://colab.research.google.com/notebooks/data_table.ipynb>data table notebook</a>'\n",
              "            + ' to learn more about interactive tables.';\n",
              "          element.innerHTML = '';\n",
              "          dataTable['output_type'] = 'display_data';\n",
              "          await google.colab.output.renderOutput(dataTable, element);\n",
              "          const docLink = document.createElement('div');\n",
              "          docLink.innerHTML = docLinkHtml;\n",
              "          element.appendChild(docLink);\n",
              "        }\n",
              "      </script>\n",
              "    </div>\n",
              "  </div>\n",
              "  "
            ]
          },
          "metadata": {},
          "execution_count": 5
        }
      ],
      "source": [
        "visits['year_ts'] = visits['start_ts'].dt.year\n",
        "visits['month_ts'] = visits['start_ts'].dt.month\n",
        "visits['week_ts'] = visits['start_ts'].dt.isocalendar().week\n",
        "visits['date_ts'] = visits['start_ts'].dt.date\n",
        "visits.head()"
      ]
    },
    {
      "cell_type": "markdown",
      "metadata": {
        "id": "8qpGRkixCB8h"
      },
      "source": [
        "Kolom `year_ts`, `month_ts`, `week_ts`, dan `date_ts` telah ditambahkan. Hal ini diperlukan agar dapat menghitung metrik aktivitas pengguna dalam kurun waktu harian, mingguan, dan bulanan (`DAU`, `WAU`, & `MAU`). "
      ]
    },
    {
      "cell_type": "code",
      "execution_count": null,
      "metadata": {
        "colab": {
          "base_uri": "https://localhost:8080/"
        },
        "id": "Fs9mor4gCB8h",
        "outputId": "1794af5d-1bd7-47f9-eb8a-65259a12e1cd"
      },
      "outputs": [
        {
          "output_type": "execute_result",
          "data": {
            "text/plain": [
              "uid    907\n",
              "dtype: int64"
            ]
          },
          "metadata": {},
          "execution_count": 6
        }
      ],
      "source": [
        "dau_total = visits.groupby('date_ts').agg({'uid':'nunique'}).mean().astype('int')\n",
        "dau_total"
      ]
    },
    {
      "cell_type": "markdown",
      "metadata": {
        "id": "O2Rp34DSCB8h"
      },
      "source": [
        "Dari nilai `dau_total` menunjukan bahwa rata-rata ada `907 pengguna` yang aktif mengakses `Y.Afisha`. "
      ]
    },
    {
      "cell_type": "code",
      "execution_count": null,
      "metadata": {
        "colab": {
          "base_uri": "https://localhost:8080/"
        },
        "id": "XOcKcHJ3CB8i",
        "outputId": "cdeba43e-05a9-4fd7-9b62-7031118355ff"
      },
      "outputs": [
        {
          "output_type": "execute_result",
          "data": {
            "text/plain": [
              "uid    5716\n",
              "dtype: int64"
            ]
          },
          "metadata": {},
          "execution_count": 7
        }
      ],
      "source": [
        "wau_total = visits.groupby(['year_ts', 'week_ts']).agg({'uid':'nunique'}).mean().astype('int')\n",
        "wau_total"
      ]
    },
    {
      "cell_type": "markdown",
      "metadata": {
        "id": "aZH04kUaCB8i"
      },
      "source": [
        "Dalam seminggu ternyata rata-rata ada `5,716` pengguna yang aktif mengakses `Y.Afisha` dalam rentang satu minggu, selanjutnya saya akan melihat berapa pengguna yang mengakses dalam sebulan.  "
      ]
    },
    {
      "cell_type": "code",
      "execution_count": null,
      "metadata": {
        "colab": {
          "base_uri": "https://localhost:8080/"
        },
        "id": "X_QiPm2iCB8i",
        "outputId": "f2eb3efa-2813-4390-fca2-b8568f4b84f6"
      },
      "outputs": [
        {
          "output_type": "execute_result",
          "data": {
            "text/plain": [
              "uid    23228\n",
              "dtype: int64"
            ]
          },
          "metadata": {},
          "execution_count": 8
        }
      ],
      "source": [
        "mau_total = visits.groupby(['year_ts', 'month_ts']).agg({'uid':'nunique'}).mean().astype('int')\n",
        "mau_total"
      ]
    },
    {
      "cell_type": "markdown",
      "metadata": {
        "id": "YZdsc6zQCB8j"
      },
      "source": [
        "Dan dari nilai `mau_total` ada `23,228` pengguna yang aktif mengakses `Y.Afisha` dalam rentang satu bulan."
      ]
    },
    {
      "cell_type": "markdown",
      "metadata": {
        "id": "Zgo1wyzyCB8j"
      },
      "source": [
        "#### Jumlah Sesi per Hari"
      ]
    },
    {
      "cell_type": "code",
      "execution_count": null,
      "metadata": {
        "colab": {
          "base_uri": "https://localhost:8080/"
        },
        "id": "yNA08gsfCB8j",
        "outputId": "1950b952-c353-4587-c1fe-958464718763"
      },
      "outputs": [
        {
          "output_type": "execute_result",
          "data": {
            "text/plain": [
              "uid    987\n",
              "dtype: int64"
            ]
          },
          "metadata": {},
          "execution_count": 9
        }
      ],
      "source": [
        "sess_per_day = visits.groupby('date_ts').agg({'uid':'count'}).mean().astype('int')\n",
        "sess_per_day"
      ]
    },
    {
      "cell_type": "markdown",
      "metadata": {
        "id": "fjRcbEh_CB8j"
      },
      "source": [
        "Dalam sehari rata-rata ada `987` sesi per hari dan rata-rata ada `907` pengguna mengakses `Y.Afisha` dalam sehari. Artinya ada pengguna mengakses `Y.Afisha` lebih dari satu sesi per hari. "
      ]
    },
    {
      "cell_type": "markdown",
      "metadata": {
        "id": "tuluMl6NCB8j"
      },
      "source": [
        "#### Durasi Dalam Setiap Sesi"
      ]
    },
    {
      "cell_type": "markdown",
      "metadata": {
        "id": "ZXRlnZDpCB8k"
      },
      "source": [
        "Untuk dapat menghitung durasi, saya perlu membuat kolom durasi sebelumnya. Pada cell dibawah, saya membuat kolom durasi per sesi dalam satuan detik."
      ]
    },
    {
      "cell_type": "code",
      "execution_count": null,
      "metadata": {
        "colab": {
          "base_uri": "https://localhost:8080/",
          "height": 206
        },
        "id": "fpjr7SZ9CB8k",
        "outputId": "87f873c6-5832-4ff2-db25-ee5f24fdd68b"
      },
      "outputs": [
        {
          "output_type": "execute_result",
          "data": {
            "text/plain": [
              "    device              end_ts  source_id            start_ts  \\\n",
              "0    touch 2017-12-20 17:38:00          4 2017-12-20 17:20:00   \n",
              "1  desktop 2018-02-19 17:21:00          2 2018-02-19 16:53:00   \n",
              "2    touch 2017-07-01 01:54:00          5 2017-07-01 01:54:00   \n",
              "3  desktop 2018-05-20 11:23:00          9 2018-05-20 10:59:00   \n",
              "4  desktop 2017-12-27 14:06:00          3 2017-12-27 14:06:00   \n",
              "\n",
              "                    uid  year_ts  month_ts  week_ts     date_ts  dura_sec  \n",
              "0  16879256277535980062     2017        12       51  2017-12-20      1080  \n",
              "1    104060357244891740     2018         2        8  2018-02-19      1680  \n",
              "2   7459035603376831527     2017         7       26  2017-07-01         0  \n",
              "3  16174680259334210214     2018         5       20  2018-05-20      1440  \n",
              "4   9969694820036681168     2017        12       52  2017-12-27         0  "
            ],
            "text/html": [
              "\n",
              "  <div id=\"df-381488a6-b3fa-4f85-8926-edcf2be52367\">\n",
              "    <div class=\"colab-df-container\">\n",
              "      <div>\n",
              "<style scoped>\n",
              "    .dataframe tbody tr th:only-of-type {\n",
              "        vertical-align: middle;\n",
              "    }\n",
              "\n",
              "    .dataframe tbody tr th {\n",
              "        vertical-align: top;\n",
              "    }\n",
              "\n",
              "    .dataframe thead th {\n",
              "        text-align: right;\n",
              "    }\n",
              "</style>\n",
              "<table border=\"1\" class=\"dataframe\">\n",
              "  <thead>\n",
              "    <tr style=\"text-align: right;\">\n",
              "      <th></th>\n",
              "      <th>device</th>\n",
              "      <th>end_ts</th>\n",
              "      <th>source_id</th>\n",
              "      <th>start_ts</th>\n",
              "      <th>uid</th>\n",
              "      <th>year_ts</th>\n",
              "      <th>month_ts</th>\n",
              "      <th>week_ts</th>\n",
              "      <th>date_ts</th>\n",
              "      <th>dura_sec</th>\n",
              "    </tr>\n",
              "  </thead>\n",
              "  <tbody>\n",
              "    <tr>\n",
              "      <th>0</th>\n",
              "      <td>touch</td>\n",
              "      <td>2017-12-20 17:38:00</td>\n",
              "      <td>4</td>\n",
              "      <td>2017-12-20 17:20:00</td>\n",
              "      <td>16879256277535980062</td>\n",
              "      <td>2017</td>\n",
              "      <td>12</td>\n",
              "      <td>51</td>\n",
              "      <td>2017-12-20</td>\n",
              "      <td>1080</td>\n",
              "    </tr>\n",
              "    <tr>\n",
              "      <th>1</th>\n",
              "      <td>desktop</td>\n",
              "      <td>2018-02-19 17:21:00</td>\n",
              "      <td>2</td>\n",
              "      <td>2018-02-19 16:53:00</td>\n",
              "      <td>104060357244891740</td>\n",
              "      <td>2018</td>\n",
              "      <td>2</td>\n",
              "      <td>8</td>\n",
              "      <td>2018-02-19</td>\n",
              "      <td>1680</td>\n",
              "    </tr>\n",
              "    <tr>\n",
              "      <th>2</th>\n",
              "      <td>touch</td>\n",
              "      <td>2017-07-01 01:54:00</td>\n",
              "      <td>5</td>\n",
              "      <td>2017-07-01 01:54:00</td>\n",
              "      <td>7459035603376831527</td>\n",
              "      <td>2017</td>\n",
              "      <td>7</td>\n",
              "      <td>26</td>\n",
              "      <td>2017-07-01</td>\n",
              "      <td>0</td>\n",
              "    </tr>\n",
              "    <tr>\n",
              "      <th>3</th>\n",
              "      <td>desktop</td>\n",
              "      <td>2018-05-20 11:23:00</td>\n",
              "      <td>9</td>\n",
              "      <td>2018-05-20 10:59:00</td>\n",
              "      <td>16174680259334210214</td>\n",
              "      <td>2018</td>\n",
              "      <td>5</td>\n",
              "      <td>20</td>\n",
              "      <td>2018-05-20</td>\n",
              "      <td>1440</td>\n",
              "    </tr>\n",
              "    <tr>\n",
              "      <th>4</th>\n",
              "      <td>desktop</td>\n",
              "      <td>2017-12-27 14:06:00</td>\n",
              "      <td>3</td>\n",
              "      <td>2017-12-27 14:06:00</td>\n",
              "      <td>9969694820036681168</td>\n",
              "      <td>2017</td>\n",
              "      <td>12</td>\n",
              "      <td>52</td>\n",
              "      <td>2017-12-27</td>\n",
              "      <td>0</td>\n",
              "    </tr>\n",
              "  </tbody>\n",
              "</table>\n",
              "</div>\n",
              "      <button class=\"colab-df-convert\" onclick=\"convertToInteractive('df-381488a6-b3fa-4f85-8926-edcf2be52367')\"\n",
              "              title=\"Convert this dataframe to an interactive table.\"\n",
              "              style=\"display:none;\">\n",
              "        \n",
              "  <svg xmlns=\"http://www.w3.org/2000/svg\" height=\"24px\"viewBox=\"0 0 24 24\"\n",
              "       width=\"24px\">\n",
              "    <path d=\"M0 0h24v24H0V0z\" fill=\"none\"/>\n",
              "    <path d=\"M18.56 5.44l.94 2.06.94-2.06 2.06-.94-2.06-.94-.94-2.06-.94 2.06-2.06.94zm-11 1L8.5 8.5l.94-2.06 2.06-.94-2.06-.94L8.5 2.5l-.94 2.06-2.06.94zm10 10l.94 2.06.94-2.06 2.06-.94-2.06-.94-.94-2.06-.94 2.06-2.06.94z\"/><path d=\"M17.41 7.96l-1.37-1.37c-.4-.4-.92-.59-1.43-.59-.52 0-1.04.2-1.43.59L10.3 9.45l-7.72 7.72c-.78.78-.78 2.05 0 2.83L4 21.41c.39.39.9.59 1.41.59.51 0 1.02-.2 1.41-.59l7.78-7.78 2.81-2.81c.8-.78.8-2.07 0-2.86zM5.41 20L4 18.59l7.72-7.72 1.47 1.35L5.41 20z\"/>\n",
              "  </svg>\n",
              "      </button>\n",
              "      \n",
              "  <style>\n",
              "    .colab-df-container {\n",
              "      display:flex;\n",
              "      flex-wrap:wrap;\n",
              "      gap: 12px;\n",
              "    }\n",
              "\n",
              "    .colab-df-convert {\n",
              "      background-color: #E8F0FE;\n",
              "      border: none;\n",
              "      border-radius: 50%;\n",
              "      cursor: pointer;\n",
              "      display: none;\n",
              "      fill: #1967D2;\n",
              "      height: 32px;\n",
              "      padding: 0 0 0 0;\n",
              "      width: 32px;\n",
              "    }\n",
              "\n",
              "    .colab-df-convert:hover {\n",
              "      background-color: #E2EBFA;\n",
              "      box-shadow: 0px 1px 2px rgba(60, 64, 67, 0.3), 0px 1px 3px 1px rgba(60, 64, 67, 0.15);\n",
              "      fill: #174EA6;\n",
              "    }\n",
              "\n",
              "    [theme=dark] .colab-df-convert {\n",
              "      background-color: #3B4455;\n",
              "      fill: #D2E3FC;\n",
              "    }\n",
              "\n",
              "    [theme=dark] .colab-df-convert:hover {\n",
              "      background-color: #434B5C;\n",
              "      box-shadow: 0px 1px 3px 1px rgba(0, 0, 0, 0.15);\n",
              "      filter: drop-shadow(0px 1px 2px rgba(0, 0, 0, 0.3));\n",
              "      fill: #FFFFFF;\n",
              "    }\n",
              "  </style>\n",
              "\n",
              "      <script>\n",
              "        const buttonEl =\n",
              "          document.querySelector('#df-381488a6-b3fa-4f85-8926-edcf2be52367 button.colab-df-convert');\n",
              "        buttonEl.style.display =\n",
              "          google.colab.kernel.accessAllowed ? 'block' : 'none';\n",
              "\n",
              "        async function convertToInteractive(key) {\n",
              "          const element = document.querySelector('#df-381488a6-b3fa-4f85-8926-edcf2be52367');\n",
              "          const dataTable =\n",
              "            await google.colab.kernel.invokeFunction('convertToInteractive',\n",
              "                                                     [key], {});\n",
              "          if (!dataTable) return;\n",
              "\n",
              "          const docLinkHtml = 'Like what you see? Visit the ' +\n",
              "            '<a target=\"_blank\" href=https://colab.research.google.com/notebooks/data_table.ipynb>data table notebook</a>'\n",
              "            + ' to learn more about interactive tables.';\n",
              "          element.innerHTML = '';\n",
              "          dataTable['output_type'] = 'display_data';\n",
              "          await google.colab.output.renderOutput(dataTable, element);\n",
              "          const docLink = document.createElement('div');\n",
              "          docLink.innerHTML = docLinkHtml;\n",
              "          element.appendChild(docLink);\n",
              "        }\n",
              "      </script>\n",
              "    </div>\n",
              "  </div>\n",
              "  "
            ]
          },
          "metadata": {},
          "execution_count": 10
        }
      ],
      "source": [
        "visits['dura_sec'] = (visits['end_ts'] - visits['start_ts']).dt.seconds\n",
        "visits.head()"
      ]
    },
    {
      "cell_type": "markdown",
      "metadata": {
        "id": "0cqZczYECB8k"
      },
      "source": [
        "kolom `durasi` telah ditambahkan kedalam `dataframe`. Selanjutnya saya akan melihat histogramnya. Saya akan melihat terlebih dahulu apakah ada penumpukan data pada suatu titik. Jika ada saya akan menggunakan `modus` jika tidak maka saya akan menggunakan nilai `mean`. "
      ]
    },
    {
      "cell_type": "code",
      "execution_count": null,
      "metadata": {
        "colab": {
          "base_uri": "https://localhost:8080/",
          "height": 282
        },
        "id": "08hZOZ6kCB8k",
        "outputId": "91bb8860-00b4-4c1e-881d-0dcddc8caba2"
      },
      "outputs": [
        {
          "output_type": "execute_result",
          "data": {
            "text/plain": [
              "<matplotlib.axes._subplots.AxesSubplot at 0x7fc3a2313cd0>"
            ]
          },
          "metadata": {},
          "execution_count": 11
        },
        {
          "output_type": "display_data",
          "data": {
            "text/plain": [
              "<Figure size 432x288 with 1 Axes>"
            ],
            "image/png": "[encoded data removed]"
          },
          "metadata": {
            "needs_background": "light"
          }
        }
      ],
      "source": [
        "visits['dura_sec'].hist(bins=100)"
      ]
    },
    {
      "cell_type": "markdown",
      "metadata": {
        "id": "nslrRp53CB8l"
      },
      "source": [
        "Ada penumpukan data disekitar nilai `0`, karena itu nilai `modus` lebih relevan dibandingkan nilai `mean`."
      ]
    },
    {
      "cell_type": "code",
      "execution_count": null,
      "metadata": {
        "colab": {
          "base_uri": "https://localhost:8080/"
        },
        "id": "ou0XI4k7CB8l",
        "outputId": "ff7e2bb9-0eba-46b9-df0a-f91fd1eab92e"
      },
      "outputs": [
        {
          "output_type": "execute_result",
          "data": {
            "text/plain": [
              "60"
            ]
          },
          "metadata": {},
          "execution_count": 12
        }
      ],
      "source": [
        "asl = visits['dura_sec'].mode() \n",
        "asl[0]"
      ]
    },
    {
      "cell_type": "markdown",
      "metadata": {
        "id": "RTDvA77uCB8l"
      },
      "source": [
        "Rata-rata durasi pengguna ketika mengakses `Y.Afisha` adalah `60 detik`. Sepertinya waktu tersebut terlalu singkat bagi seorang pengguna mengakes aplikasi. Hal ini akan menjadi catatan dalam analisa selanjutnya. "
      ]
    },
    {
      "cell_type": "markdown",
      "metadata": {
        "id": "0DhHkWiZCB8l"
      },
      "source": [
        "#### Seberapa Sering Pengguna Kembali Menggunakan Aplikasi"
      ]
    },
    {
      "cell_type": "markdown",
      "metadata": {
        "id": "hq0GOJDoCB8m"
      },
      "source": [
        "Untuk melihat seberapa sering pengguna kembali menggunakan aplikasi saya akan menggunakan metrik `sticky factor`. Ada dua `sticky factor`, `sticky factor` `WAU` dan `MAU`. Saya akan menghitung kedua `sticky factor` tersebut.  "
      ]
    },
    {
      "cell_type": "code",
      "execution_count": null,
      "metadata": {
        "colab": {
          "base_uri": "https://localhost:8080/"
        },
        "id": "VzYI5PiSCB8m",
        "outputId": "88302b17-e5a1-4d45-8db1-386cf4732b32"
      },
      "outputs": [
        {
          "output_type": "stream",
          "name": "stdout",
          "text": [
            "Nilai sticky factor WAU adalah: 15.867739678096571\n",
            "Nilai sticky factor WAU adalah: 3.9047701050456345\n"
          ]
        }
      ],
      "source": [
        "sticky_wau = dau_total/wau_total * 100\n",
        "sticky_mau = dau_total/mau_total * 100\n",
        "\n",
        "print('Nilai sticky factor WAU adalah: '+ str(sticky_wau.uid))\n",
        "print('Nilai sticky factor WAU adalah: '+ str(sticky_mau.uid))"
      ]
    },
    {
      "cell_type": "markdown",
      "metadata": {
        "id": "r_pjv_GcCB8m"
      },
      "source": [
        "Dari nilai tersebut artinya ada `16%` dari pengguna aktif mingguan yang kembali aktif menggunakan aplikasi secara harian. Sedangkan hanya kurang dari `4%` dari pengguna aktif bulanan yang kembali aktif menggunakan aplikasi secara harian."
      ]
    },
    {
      "cell_type": "markdown",
      "metadata": {
        "id": "7Xjuia0oCB8m"
      },
      "source": [
        "#### Kesimpulan Analisa Aktivitas Pengguna"
      ]
    },
    {
      "cell_type": "markdown",
      "metadata": {
        "id": "_gcXPH4CCB8m"
      },
      "source": [
        "Dari berbagai analisa yang telah dilakukan kita dapat melihat dalam rata-rata ada `23,228` pengguna mengunjungi situs `Y.Afisha` dalam sebulan, `5,716` dalam seminggu, dan `907` dalam sehari. Artinya ada `15.86%` pengguna mingguan yang mengakses harian, dan hanya `3.9%` dari pengguna bulanan yang mengakses situs secara harian.\n",
        "\n",
        "Dari segi durasi rata-rata waktu kunjungan pengguna ke situs adalah `60 detik`. Durasi tersebut menurut saya terlalu pendek untuk waktu kunjungan seseorang kedalam sebuah situs. Kemungkinan ada versi situs yang mengalami gangguan sehingga pengguna mengakhiri sesinya lebih cepat. Karena itu hal ini kan menjadi catatan dalam analisa selanjutnya. "
      ]
    },
    {
      "cell_type": "markdown",
      "metadata": {
        "id": "Y5NoDq7mCB8n"
      },
      "source": [
        "### Analisa Penjualan"
      ]
    },
    {
      "cell_type": "markdown",
      "metadata": {
        "id": "XpkqVfowCB8n"
      },
      "source": [
        "#### Konversi"
      ]
    },
    {
      "cell_type": "markdown",
      "metadata": {
        "id": "wl73nLWWCB8n"
      },
      "source": [
        "Pada bagian ini, saya akan melihat berapa lamakah waktu yang dibutuhkan hingga terjadinya transaksi. Agar dapat menghitung hal tersebut, saya perlu membuat kolom waktu pertama kali pengguna mengakses aplikasi. Saya juga akan menambahkan kolom `device` agar dapat memperkaya analisa jika dibutuhkan."
      ]
    },
    {
      "cell_type": "code",
      "execution_count": null,
      "metadata": {
        "colab": {
          "base_uri": "https://localhost:8080/",
          "height": 206
        },
        "id": "KR8pGZnwCB8n",
        "outputId": "9c95783e-d7e4-410a-a61d-fc2d592dfaf2"
      },
      "outputs": [
        {
          "output_type": "execute_result",
          "data": {
            "text/plain": [
              "               buy_ts  revenue                   uid        first_access\n",
              "0 2017-06-01 00:10:00    17.00  10329302124590727494 2017-06-01 00:09:00\n",
              "1 2017-06-01 00:25:00     0.55  11627257723692907447 2017-06-01 00:14:00\n",
              "2 2017-06-01 00:27:00     0.37  17903680561304213844 2017-06-01 00:25:00\n",
              "3 2017-06-01 00:29:00     0.55  16109239769442553005 2017-06-01 00:14:00\n",
              "4 2017-06-01 07:58:00     0.37  14200605875248379450 2017-06-01 07:31:00"
            ],
            "text/html": [
              "\n",
              "  <div id=\"df-3bc0533a-70f9-4bc7-ba24-901ee0831a25\">\n",
              "    <div class=\"colab-df-container\">\n",
              "      <div>\n",
              "<style scoped>\n",
              "    .dataframe tbody tr th:only-of-type {\n",
              "        vertical-align: middle;\n",
              "    }\n",
              "\n",
              "    .dataframe tbody tr th {\n",
              "        vertical-align: top;\n",
              "    }\n",
              "\n",
              "    .dataframe thead th {\n",
              "        text-align: right;\n",
              "    }\n",
              "</style>\n",
              "<table border=\"1\" class=\"dataframe\">\n",
              "  <thead>\n",
              "    <tr style=\"text-align: right;\">\n",
              "      <th></th>\n",
              "      <th>buy_ts</th>\n",
              "      <th>revenue</th>\n",
              "      <th>uid</th>\n",
              "      <th>first_access</th>\n",
              "    </tr>\n",
              "  </thead>\n",
              "  <tbody>\n",
              "    <tr>\n",
              "      <th>0</th>\n",
              "      <td>2017-06-01 00:10:00</td>\n",
              "      <td>17.00</td>\n",
              "      <td>10329302124590727494</td>\n",
              "      <td>2017-06-01 00:09:00</td>\n",
              "    </tr>\n",
              "    <tr>\n",
              "      <th>1</th>\n",
              "      <td>2017-06-01 00:25:00</td>\n",
              "      <td>0.55</td>\n",
              "      <td>11627257723692907447</td>\n",
              "      <td>2017-06-01 00:14:00</td>\n",
              "    </tr>\n",
              "    <tr>\n",
              "      <th>2</th>\n",
              "      <td>2017-06-01 00:27:00</td>\n",
              "      <td>0.37</td>\n",
              "      <td>17903680561304213844</td>\n",
              "      <td>2017-06-01 00:25:00</td>\n",
              "    </tr>\n",
              "    <tr>\n",
              "      <th>3</th>\n",
              "      <td>2017-06-01 00:29:00</td>\n",
              "      <td>0.55</td>\n",
              "      <td>16109239769442553005</td>\n",
              "      <td>2017-06-01 00:14:00</td>\n",
              "    </tr>\n",
              "    <tr>\n",
              "      <th>4</th>\n",
              "      <td>2017-06-01 07:58:00</td>\n",
              "      <td>0.37</td>\n",
              "      <td>14200605875248379450</td>\n",
              "      <td>2017-06-01 07:31:00</td>\n",
              "    </tr>\n",
              "  </tbody>\n",
              "</table>\n",
              "</div>\n",
              "      <button class=\"colab-df-convert\" onclick=\"convertToInteractive('df-3bc0533a-70f9-4bc7-ba24-901ee0831a25')\"\n",
              "              title=\"Convert this dataframe to an interactive table.\"\n",
              "              style=\"display:none;\">\n",
              "        \n",
              "  <svg xmlns=\"http://www.w3.org/2000/svg\" height=\"24px\"viewBox=\"0 0 24 24\"\n",
              "       width=\"24px\">\n",
              "    <path d=\"M0 0h24v24H0V0z\" fill=\"none\"/>\n",
              "    <path d=\"M18.56 5.44l.94 2.06.94-2.06 2.06-.94-2.06-.94-.94-2.06-.94 2.06-2.06.94zm-11 1L8.5 8.5l.94-2.06 2.06-.94-2.06-.94L8.5 2.5l-.94 2.06-2.06.94zm10 10l.94 2.06.94-2.06 2.06-.94-2.06-.94-.94-2.06-.94 2.06-2.06.94z\"/><path d=\"M17.41 7.96l-1.37-1.37c-.4-.4-.92-.59-1.43-.59-.52 0-1.04.2-1.43.59L10.3 9.45l-7.72 7.72c-.78.78-.78 2.05 0 2.83L4 21.41c.39.39.9.59 1.41.59.51 0 1.02-.2 1.41-.59l7.78-7.78 2.81-2.81c.8-.78.8-2.07 0-2.86zM5.41 20L4 18.59l7.72-7.72 1.47 1.35L5.41 20z\"/>\n",
              "  </svg>\n",
              "      </button>\n",
              "      \n",
              "  <style>\n",
              "    .colab-df-container {\n",
              "      display:flex;\n",
              "      flex-wrap:wrap;\n",
              "      gap: 12px;\n",
              "    }\n",
              "\n",
              "    .colab-df-convert {\n",
              "      background-color: #E8F0FE;\n",
              "      border: none;\n",
              "      border-radius: 50%;\n",
              "      cursor: pointer;\n",
              "      display: none;\n",
              "      fill: #1967D2;\n",
              "      height: 32px;\n",
              "      padding: 0 0 0 0;\n",
              "      width: 32px;\n",
              "    }\n",
              "\n",
              "    .colab-df-convert:hover {\n",
              "      background-color: #E2EBFA;\n",
              "      box-shadow: 0px 1px 2px rgba(60, 64, 67, 0.3), 0px 1px 3px 1px rgba(60, 64, 67, 0.15);\n",
              "      fill: #174EA6;\n",
              "    }\n",
              "\n",
              "    [theme=dark] .colab-df-convert {\n",
              "      background-color: #3B4455;\n",
              "      fill: #D2E3FC;\n",
              "    }\n",
              "\n",
              "    [theme=dark] .colab-df-convert:hover {\n",
              "      background-color: #434B5C;\n",
              "      box-shadow: 0px 1px 3px 1px rgba(0, 0, 0, 0.15);\n",
              "      filter: drop-shadow(0px 1px 2px rgba(0, 0, 0, 0.3));\n",
              "      fill: #FFFFFF;\n",
              "    }\n",
              "  </style>\n",
              "\n",
              "      <script>\n",
              "        const buttonEl =\n",
              "          document.querySelector('#df-3bc0533a-70f9-4bc7-ba24-901ee0831a25 button.colab-df-convert');\n",
              "        buttonEl.style.display =\n",
              "          google.colab.kernel.accessAllowed ? 'block' : 'none';\n",
              "\n",
              "        async function convertToInteractive(key) {\n",
              "          const element = document.querySelector('#df-3bc0533a-70f9-4bc7-ba24-901ee0831a25');\n",
              "          const dataTable =\n",
              "            await google.colab.kernel.invokeFunction('convertToInteractive',\n",
              "                                                     [key], {});\n",
              "          if (!dataTable) return;\n",
              "\n",
              "          const docLinkHtml = 'Like what you see? Visit the ' +\n",
              "            '<a target=\"_blank\" href=https://colab.research.google.com/notebooks/data_table.ipynb>data table notebook</a>'\n",
              "            + ' to learn more about interactive tables.';\n",
              "          element.innerHTML = '';\n",
              "          dataTable['output_type'] = 'display_data';\n",
              "          await google.colab.output.renderOutput(dataTable, element);\n",
              "          const docLink = document.createElement('div');\n",
              "          docLink.innerHTML = docLinkHtml;\n",
              "          element.appendChild(docLink);\n",
              "        }\n",
              "      </script>\n",
              "    </div>\n",
              "  </div>\n",
              "  "
            ]
          },
          "metadata": {},
          "execution_count": 14
        }
      ],
      "source": [
        "first_access = visits.groupby(['uid'])['start_ts'].min()\n",
        "first_access.name = 'first_access'\n",
        "first_access = first_access.reset_index()\n",
        "\n",
        "orders_ = orders.merge(first_access, on='uid')\n",
        "orders_.head()"
      ]
    },
    {
      "cell_type": "markdown",
      "metadata": {
        "id": "SweYr7iZCB8n"
      },
      "source": [
        "Kolom `first_access`telah berhasil ditambahkan. Sekarang akan melanjutkan proses analisa `konversi` dengan menambahkan kolom `conversion_time`."
      ]
    },
    {
      "cell_type": "code",
      "execution_count": null,
      "metadata": {
        "scrolled": true,
        "colab": {
          "base_uri": "https://localhost:8080/",
          "height": 206
        },
        "id": "_kUAB5idCB8o",
        "outputId": "5dd8f066-b4f6-4c15-dea8-01f55731513d"
      },
      "outputs": [
        {
          "output_type": "execute_result",
          "data": {
            "text/plain": [
              "               buy_ts  revenue                   uid        first_access  \\\n",
              "0 2017-06-01 00:10:00    17.00  10329302124590727494 2017-06-01 00:09:00   \n",
              "1 2017-06-01 00:25:00     0.55  11627257723692907447 2017-06-01 00:14:00   \n",
              "2 2017-06-01 00:27:00     0.37  17903680561304213844 2017-06-01 00:25:00   \n",
              "3 2017-06-01 00:29:00     0.55  16109239769442553005 2017-06-01 00:14:00   \n",
              "4 2017-06-01 07:58:00     0.37  14200605875248379450 2017-06-01 07:31:00   \n",
              "\n",
              "   coversion_time  \n",
              "0 0 days 00:01:00  \n",
              "1 0 days 00:11:00  \n",
              "2 0 days 00:02:00  \n",
              "3 0 days 00:15:00  \n",
              "4 0 days 00:27:00  "
            ],
            "text/html": [
              "\n",
              "  <div id=\"df-4c4df4e9-001e-4f57-b039-7358fc02d5b7\">\n",
              "    <div class=\"colab-df-container\">\n",
              "      <div>\n",
              "<style scoped>\n",
              "    .dataframe tbody tr th:only-of-type {\n",
              "        vertical-align: middle;\n",
              "    }\n",
              "\n",
              "    .dataframe tbody tr th {\n",
              "        vertical-align: top;\n",
              "    }\n",
              "\n",
              "    .dataframe thead th {\n",
              "        text-align: right;\n",
              "    }\n",
              "</style>\n",
              "<table border=\"1\" class=\"dataframe\">\n",
              "  <thead>\n",
              "    <tr style=\"text-align: right;\">\n",
              "      <th></th>\n",
              "      <th>buy_ts</th>\n",
              "      <th>revenue</th>\n",
              "      <th>uid</th>\n",
              "      <th>first_access</th>\n",
              "      <th>coversion_time</th>\n",
              "    </tr>\n",
              "  </thead>\n",
              "  <tbody>\n",
              "    <tr>\n",
              "      <th>0</th>\n",
              "      <td>2017-06-01 00:10:00</td>\n",
              "      <td>17.00</td>\n",
              "      <td>10329302124590727494</td>\n",
              "      <td>2017-06-01 00:09:00</td>\n",
              "      <td>0 days 00:01:00</td>\n",
              "    </tr>\n",
              "    <tr>\n",
              "      <th>1</th>\n",
              "      <td>2017-06-01 00:25:00</td>\n",
              "      <td>0.55</td>\n",
              "      <td>11627257723692907447</td>\n",
              "      <td>2017-06-01 00:14:00</td>\n",
              "      <td>0 days 00:11:00</td>\n",
              "    </tr>\n",
              "    <tr>\n",
              "      <th>2</th>\n",
              "      <td>2017-06-01 00:27:00</td>\n",
              "      <td>0.37</td>\n",
              "      <td>17903680561304213844</td>\n",
              "      <td>2017-06-01 00:25:00</td>\n",
              "      <td>0 days 00:02:00</td>\n",
              "    </tr>\n",
              "    <tr>\n",
              "      <th>3</th>\n",
              "      <td>2017-06-01 00:29:00</td>\n",
              "      <td>0.55</td>\n",
              "      <td>16109239769442553005</td>\n",
              "      <td>2017-06-01 00:14:00</td>\n",
              "      <td>0 days 00:15:00</td>\n",
              "    </tr>\n",
              "    <tr>\n",
              "      <th>4</th>\n",
              "      <td>2017-06-01 07:58:00</td>\n",
              "      <td>0.37</td>\n",
              "      <td>14200605875248379450</td>\n",
              "      <td>2017-06-01 07:31:00</td>\n",
              "      <td>0 days 00:27:00</td>\n",
              "    </tr>\n",
              "  </tbody>\n",
              "</table>\n",
              "</div>\n",
              "      <button class=\"colab-df-convert\" onclick=\"convertToInteractive('df-4c4df4e9-001e-4f57-b039-7358fc02d5b7')\"\n",
              "              title=\"Convert this dataframe to an interactive table.\"\n",
              "              style=\"display:none;\">\n",
              "        \n",
              "  <svg xmlns=\"http://www.w3.org/2000/svg\" height=\"24px\"viewBox=\"0 0 24 24\"\n",
              "       width=\"24px\">\n",
              "    <path d=\"M0 0h24v24H0V0z\" fill=\"none\"/>\n",
              "    <path d=\"M18.56 5.44l.94 2.06.94-2.06 2.06-.94-2.06-.94-.94-2.06-.94 2.06-2.06.94zm-11 1L8.5 8.5l.94-2.06 2.06-.94-2.06-.94L8.5 2.5l-.94 2.06-2.06.94zm10 10l.94 2.06.94-2.06 2.06-.94-2.06-.94-.94-2.06-.94 2.06-2.06.94z\"/><path d=\"M17.41 7.96l-1.37-1.37c-.4-.4-.92-.59-1.43-.59-.52 0-1.04.2-1.43.59L10.3 9.45l-7.72 7.72c-.78.78-.78 2.05 0 2.83L4 21.41c.39.39.9.59 1.41.59.51 0 1.02-.2 1.41-.59l7.78-7.78 2.81-2.81c.8-.78.8-2.07 0-2.86zM5.41 20L4 18.59l7.72-7.72 1.47 1.35L5.41 20z\"/>\n",
              "  </svg>\n",
              "      </button>\n",
              "      \n",
              "  <style>\n",
              "    .colab-df-container {\n",
              "      display:flex;\n",
              "      flex-wrap:wrap;\n",
              "      gap: 12px;\n",
              "    }\n",
              "\n",
              "    .colab-df-convert {\n",
              "      background-color: #E8F0FE;\n",
              "      border: none;\n",
              "      border-radius: 50%;\n",
              "      cursor: pointer;\n",
              "      display: none;\n",
              "      fill: #1967D2;\n",
              "      height: 32px;\n",
              "      padding: 0 0 0 0;\n",
              "      width: 32px;\n",
              "    }\n",
              "\n",
              "    .colab-df-convert:hover {\n",
              "      background-color: #E2EBFA;\n",
              "      box-shadow: 0px 1px 2px rgba(60, 64, 67, 0.3), 0px 1px 3px 1px rgba(60, 64, 67, 0.15);\n",
              "      fill: #174EA6;\n",
              "    }\n",
              "\n",
              "    [theme=dark] .colab-df-convert {\n",
              "      background-color: #3B4455;\n",
              "      fill: #D2E3FC;\n",
              "    }\n",
              "\n",
              "    [theme=dark] .colab-df-convert:hover {\n",
              "      background-color: #434B5C;\n",
              "      box-shadow: 0px 1px 3px 1px rgba(0, 0, 0, 0.15);\n",
              "      filter: drop-shadow(0px 1px 2px rgba(0, 0, 0, 0.3));\n",
              "      fill: #FFFFFF;\n",
              "    }\n",
              "  </style>\n",
              "\n",
              "      <script>\n",
              "        const buttonEl =\n",
              "          document.querySelector('#df-4c4df4e9-001e-4f57-b039-7358fc02d5b7 button.colab-df-convert');\n",
              "        buttonEl.style.display =\n",
              "          google.colab.kernel.accessAllowed ? 'block' : 'none';\n",
              "\n",
              "        async function convertToInteractive(key) {\n",
              "          const element = document.querySelector('#df-4c4df4e9-001e-4f57-b039-7358fc02d5b7');\n",
              "          const dataTable =\n",
              "            await google.colab.kernel.invokeFunction('convertToInteractive',\n",
              "                                                     [key], {});\n",
              "          if (!dataTable) return;\n",
              "\n",
              "          const docLinkHtml = 'Like what you see? Visit the ' +\n",
              "            '<a target=\"_blank\" href=https://colab.research.google.com/notebooks/data_table.ipynb>data table notebook</a>'\n",
              "            + ' to learn more about interactive tables.';\n",
              "          element.innerHTML = '';\n",
              "          dataTable['output_type'] = 'display_data';\n",
              "          await google.colab.output.renderOutput(dataTable, element);\n",
              "          const docLink = document.createElement('div');\n",
              "          docLink.innerHTML = docLinkHtml;\n",
              "          element.appendChild(docLink);\n",
              "        }\n",
              "      </script>\n",
              "    </div>\n",
              "  </div>\n",
              "  "
            ]
          },
          "metadata": {},
          "execution_count": 15
        }
      ],
      "source": [
        "orders_['coversion_time'] = orders_['buy_ts'] - orders_['first_access']\n",
        "orders_.head()"
      ]
    },
    {
      "cell_type": "markdown",
      "metadata": {
        "id": "O9m01Um-CB8o"
      },
      "source": [
        "Kolom `conversion time` telah berhasil ditambahkan. Saya akan melihat persebarannya. "
      ]
    },
    {
      "cell_type": "code",
      "execution_count": null,
      "metadata": {
        "colab": {
          "base_uri": "https://localhost:8080/"
        },
        "id": "_Lvt7AIJCB8o",
        "outputId": "09a70496-b5d7-478c-a937-c89aca44b07f"
      },
      "outputs": [
        {
          "output_type": "stream",
          "name": "stdout",
          "text": [
            "<class 'pandas.core.frame.DataFrame'>\n",
            "Int64Index: 50415 entries, 0 to 50414\n",
            "Data columns (total 5 columns):\n",
            " #   Column          Non-Null Count  Dtype          \n",
            "---  ------          --------------  -----          \n",
            " 0   buy_ts          50415 non-null  datetime64[ns] \n",
            " 1   revenue         50415 non-null  float64        \n",
            " 2   uid             50415 non-null  uint64         \n",
            " 3   first_access    50415 non-null  datetime64[ns] \n",
            " 4   coversion_time  50415 non-null  timedelta64[ns]\n",
            "dtypes: datetime64[ns](2), float64(1), timedelta64[ns](1), uint64(1)\n",
            "memory usage: 2.3 MB\n"
          ]
        }
      ],
      "source": [
        "orders_.info()"
      ]
    },
    {
      "cell_type": "code",
      "execution_count": null,
      "metadata": {
        "colab": {
          "base_uri": "https://localhost:8080/"
        },
        "id": "KAcsOKGmCB8o",
        "outputId": "5c8ffcf2-b4bb-4829-b29f-2271f9bd5409"
      },
      "outputs": [
        {
          "output_type": "execute_result",
          "data": {
            "text/plain": [
              "count                         50415\n",
              "mean     37 days 00:53:06.287414460\n",
              "std      70 days 14:39:40.373203781\n",
              "min                 0 days 00:00:00\n",
              "25%                 0 days 00:06:00\n",
              "50%                 0 days 03:26:00\n",
              "75%                38 days 09:22:30\n",
              "max               364 days 08:29:00\n",
              "Name: coversion_time, dtype: object"
            ]
          },
          "metadata": {},
          "execution_count": 17
        }
      ],
      "source": [
        "orders_['coversion_time'].describe()"
      ]
    },
    {
      "cell_type": "markdown",
      "metadata": {
        "id": "pUvRi6xCCB8o"
      },
      "source": [
        "Jarak antara nilai terbesar dan terkecilnya ternyata sangat jauh jaraknya. Waktu konversi terkecilnya dibawah `1 menit` sedangkan terbesarnya hampir `1 tahun`. \n",
        "\n",
        "Saya akan menghitung rata-rata waktu konversi dalam hari berdasarkan `cohort`. Karena itu saya akan mengubah waktu konversi dalam hari dan menambahkan kolom `first_access_month` agar dapat melakukan analisa `cohort`."
      ]
    },
    {
      "cell_type": "code",
      "execution_count": null,
      "metadata": {
        "colab": {
          "base_uri": "https://localhost:8080/",
          "height": 206
        },
        "id": "xK5tK8HVCB8p",
        "outputId": "fdf0a0a5-eb05-45e7-b35b-e81254b9365f"
      },
      "outputs": [
        {
          "output_type": "execute_result",
          "data": {
            "text/plain": [
              "               buy_ts  revenue                   uid        first_access  \\\n",
              "0 2017-06-01 00:10:00    17.00  10329302124590727494 2017-06-01 00:09:00   \n",
              "1 2017-06-01 00:25:00     0.55  11627257723692907447 2017-06-01 00:14:00   \n",
              "2 2017-06-01 00:27:00     0.37  17903680561304213844 2017-06-01 00:25:00   \n",
              "3 2017-06-01 00:29:00     0.55  16109239769442553005 2017-06-01 00:14:00   \n",
              "4 2017-06-01 07:58:00     0.37  14200605875248379450 2017-06-01 07:31:00   \n",
              "\n",
              "   coversion_time  coversion_days first_access_month  \n",
              "0 0 days 00:01:00               0         2017-06-01  \n",
              "1 0 days 00:11:00               0         2017-06-01  \n",
              "2 0 days 00:02:00               0         2017-06-01  \n",
              "3 0 days 00:15:00               0         2017-06-01  \n",
              "4 0 days 00:27:00               0         2017-06-01  "
            ],
            "text/html": [
              "\n",
              "  <div id=\"df-26f4c122-00ca-49cb-af49-207e1888483e\">\n",
              "    <div class=\"colab-df-container\">\n",
              "      <div>\n",
              "<style scoped>\n",
              "    .dataframe tbody tr th:only-of-type {\n",
              "        vertical-align: middle;\n",
              "    }\n",
              "\n",
              "    .dataframe tbody tr th {\n",
              "        vertical-align: top;\n",
              "    }\n",
              "\n",
              "    .dataframe thead th {\n",
              "        text-align: right;\n",
              "    }\n",
              "</style>\n",
              "<table border=\"1\" class=\"dataframe\">\n",
              "  <thead>\n",
              "    <tr style=\"text-align: right;\">\n",
              "      <th></th>\n",
              "      <th>buy_ts</th>\n",
              "      <th>revenue</th>\n",
              "      <th>uid</th>\n",
              "      <th>first_access</th>\n",
              "      <th>coversion_time</th>\n",
              "      <th>coversion_days</th>\n",
              "      <th>first_access_month</th>\n",
              "    </tr>\n",
              "  </thead>\n",
              "  <tbody>\n",
              "    <tr>\n",
              "      <th>0</th>\n",
              "      <td>2017-06-01 00:10:00</td>\n",
              "      <td>17.00</td>\n",
              "      <td>10329302124590727494</td>\n",
              "      <td>2017-06-01 00:09:00</td>\n",
              "      <td>0 days 00:01:00</td>\n",
              "      <td>0</td>\n",
              "      <td>2017-06-01</td>\n",
              "    </tr>\n",
              "    <tr>\n",
              "      <th>1</th>\n",
              "      <td>2017-06-01 00:25:00</td>\n",
              "      <td>0.55</td>\n",
              "      <td>11627257723692907447</td>\n",
              "      <td>2017-06-01 00:14:00</td>\n",
              "      <td>0 days 00:11:00</td>\n",
              "      <td>0</td>\n",
              "      <td>2017-06-01</td>\n",
              "    </tr>\n",
              "    <tr>\n",
              "      <th>2</th>\n",
              "      <td>2017-06-01 00:27:00</td>\n",
              "      <td>0.37</td>\n",
              "      <td>17903680561304213844</td>\n",
              "      <td>2017-06-01 00:25:00</td>\n",
              "      <td>0 days 00:02:00</td>\n",
              "      <td>0</td>\n",
              "      <td>2017-06-01</td>\n",
              "    </tr>\n",
              "    <tr>\n",
              "      <th>3</th>\n",
              "      <td>2017-06-01 00:29:00</td>\n",
              "      <td>0.55</td>\n",
              "      <td>16109239769442553005</td>\n",
              "      <td>2017-06-01 00:14:00</td>\n",
              "      <td>0 days 00:15:00</td>\n",
              "      <td>0</td>\n",
              "      <td>2017-06-01</td>\n",
              "    </tr>\n",
              "    <tr>\n",
              "      <th>4</th>\n",
              "      <td>2017-06-01 07:58:00</td>\n",
              "      <td>0.37</td>\n",
              "      <td>14200605875248379450</td>\n",
              "      <td>2017-06-01 07:31:00</td>\n",
              "      <td>0 days 00:27:00</td>\n",
              "      <td>0</td>\n",
              "      <td>2017-06-01</td>\n",
              "    </tr>\n",
              "  </tbody>\n",
              "</table>\n",
              "</div>\n",
              "      <button class=\"colab-df-convert\" onclick=\"convertToInteractive('df-26f4c122-00ca-49cb-af49-207e1888483e')\"\n",
              "              title=\"Convert this dataframe to an interactive table.\"\n",
              "              style=\"display:none;\">\n",
              "        \n",
              "  <svg xmlns=\"http://www.w3.org/2000/svg\" height=\"24px\"viewBox=\"0 0 24 24\"\n",
              "       width=\"24px\">\n",
              "    <path d=\"M0 0h24v24H0V0z\" fill=\"none\"/>\n",
              "    <path d=\"M18.56 5.44l.94 2.06.94-2.06 2.06-.94-2.06-.94-.94-2.06-.94 2.06-2.06.94zm-11 1L8.5 8.5l.94-2.06 2.06-.94-2.06-.94L8.5 2.5l-.94 2.06-2.06.94zm10 10l.94 2.06.94-2.06 2.06-.94-2.06-.94-.94-2.06-.94 2.06-2.06.94z\"/><path d=\"M17.41 7.96l-1.37-1.37c-.4-.4-.92-.59-1.43-.59-.52 0-1.04.2-1.43.59L10.3 9.45l-7.72 7.72c-.78.78-.78 2.05 0 2.83L4 21.41c.39.39.9.59 1.41.59.51 0 1.02-.2 1.41-.59l7.78-7.78 2.81-2.81c.8-.78.8-2.07 0-2.86zM5.41 20L4 18.59l7.72-7.72 1.47 1.35L5.41 20z\"/>\n",
              "  </svg>\n",
              "      </button>\n",
              "      \n",
              "  <style>\n",
              "    .colab-df-container {\n",
              "      display:flex;\n",
              "      flex-wrap:wrap;\n",
              "      gap: 12px;\n",
              "    }\n",
              "\n",
              "    .colab-df-convert {\n",
              "      background-color: #E8F0FE;\n",
              "      border: none;\n",
              "      border-radius: 50%;\n",
              "      cursor: pointer;\n",
              "      display: none;\n",
              "      fill: #1967D2;\n",
              "      height: 32px;\n",
              "      padding: 0 0 0 0;\n",
              "      width: 32px;\n",
              "    }\n",
              "\n",
              "    .colab-df-convert:hover {\n",
              "      background-color: #E2EBFA;\n",
              "      box-shadow: 0px 1px 2px rgba(60, 64, 67, 0.3), 0px 1px 3px 1px rgba(60, 64, 67, 0.15);\n",
              "      fill: #174EA6;\n",
              "    }\n",
              "\n",
              "    [theme=dark] .colab-df-convert {\n",
              "      background-color: #3B4455;\n",
              "      fill: #D2E3FC;\n",
              "    }\n",
              "\n",
              "    [theme=dark] .colab-df-convert:hover {\n",
              "      background-color: #434B5C;\n",
              "      box-shadow: 0px 1px 3px 1px rgba(0, 0, 0, 0.15);\n",
              "      filter: drop-shadow(0px 1px 2px rgba(0, 0, 0, 0.3));\n",
              "      fill: #FFFFFF;\n",
              "    }\n",
              "  </style>\n",
              "\n",
              "      <script>\n",
              "        const buttonEl =\n",
              "          document.querySelector('#df-26f4c122-00ca-49cb-af49-207e1888483e button.colab-df-convert');\n",
              "        buttonEl.style.display =\n",
              "          google.colab.kernel.accessAllowed ? 'block' : 'none';\n",
              "\n",
              "        async function convertToInteractive(key) {\n",
              "          const element = document.querySelector('#df-26f4c122-00ca-49cb-af49-207e1888483e');\n",
              "          const dataTable =\n",
              "            await google.colab.kernel.invokeFunction('convertToInteractive',\n",
              "                                                     [key], {});\n",
              "          if (!dataTable) return;\n",
              "\n",
              "          const docLinkHtml = 'Like what you see? Visit the ' +\n",
              "            '<a target=\"_blank\" href=https://colab.research.google.com/notebooks/data_table.ipynb>data table notebook</a>'\n",
              "            + ' to learn more about interactive tables.';\n",
              "          element.innerHTML = '';\n",
              "          dataTable['output_type'] = 'display_data';\n",
              "          await google.colab.output.renderOutput(dataTable, element);\n",
              "          const docLink = document.createElement('div');\n",
              "          docLink.innerHTML = docLinkHtml;\n",
              "          element.appendChild(docLink);\n",
              "        }\n",
              "      </script>\n",
              "    </div>\n",
              "  </div>\n",
              "  "
            ]
          },
          "metadata": {},
          "execution_count": 18
        }
      ],
      "source": [
        "orders_['coversion_days'] = orders_['coversion_time'].dt.days\n",
        "orders_['first_access_month'] = orders_['first_access'].astype('datetime64[M]')\n",
        "orders_.head()"
      ]
    },
    {
      "cell_type": "markdown",
      "metadata": {
        "id": "e0sv4e_jCB8p"
      },
      "source": [
        "Kolom `coversion_time_days` dan `first_access_month` telah berhasil ditambahkan. Maka saya sudah dapat menghitung rata-rata waktu konversinya berdasarkan `cohort`."
      ]
    },
    {
      "cell_type": "code",
      "execution_count": null,
      "metadata": {
        "colab": {
          "base_uri": "https://localhost:8080/",
          "height": 437
        },
        "id": "zPes6E49CB8p",
        "outputId": "657f8234-5033-42a0-9a12-f74212637e87"
      },
      "outputs": [
        {
          "output_type": "display_data",
          "data": {
            "text/plain": [
              "<Figure size 864x432 with 1 Axes>"
            ],
            "image/png": "[encoded data removed]"
          },
          "metadata": {
            "needs_background": "light"
          }
        }
      ],
      "source": [
        "conversion_days_by_cohort = orders_.groupby('first_access_month')['coversion_days'].mean()\n",
        "conversion_days_by_cohort.name = 'mean_of_conversion_days'\n",
        "conversion_days_by_cohort = conversion_days_by_cohort.reset_index()\n",
        "conversion_days_by_cohort['first_access_month'] = conversion_days_by_cohort['first_access_month'].dt.to_period('M') \n",
        "\n",
        "fig, ax = plt.subplots(figsize=(12, 6))\n",
        "plots = sns.barplot(data=conversion_days_by_cohort, x='first_access_month', y='mean_of_conversion_days', ax=ax)\n",
        "\n",
        "for bar in plots.patches:\n",
        "   \n",
        "    plots.annotate(format(bar.get_height(), '.2f'),\n",
        "                   (bar.get_x() + bar.get_width() / 2,\n",
        "                    bar.get_height()), ha='center', va='center',\n",
        "                   size=8, xytext=(0, 8),\n",
        "                   textcoords='offset points')\n",
        "\n",
        "plt.xticks(rotation=45)\n",
        "plt.title('Mean of Conversion Days by Cohort', size=16)\n",
        "plt.xlabel('Cohort', size=14)\n",
        "plt.ylabel('Conversion Days', size=14)\n",
        "plt.show()"
      ]
    },
    {
      "cell_type": "markdown",
      "metadata": {
        "id": "n9rnqDJgCB8p"
      },
      "source": [
        "Dari grafik diatas memperlihatkan berdasarkan `cohort`, semakin lama waktu `konversi` semakin rendah. Terutama pada `cohort` `2017-06` ke `2017-07` waktu konversinya menurun hampir `50%`. Hal tersebut artinya baik. Karena semakin lama proses pengguna mulai mengakses situs `Y.Afisha` hingga membuat transaksi semakin pendek. \n",
        "\n",
        "Namun ada hal yang ganjil, karena `cohort` pengguna yang melakukan pembelian hanya dari `Juni 2017` sampai bulan `Mei 2018`. Padahal `dataframe` berisi aktifitas pengguna mulai dari `Januari 2017` hingga `Desember 2018`.  "
      ]
    },
    {
      "cell_type": "markdown",
      "metadata": {
        "id": "7s3YbzAuCB8q"
      },
      "source": [
        "#### Jumlah Pesanan per Bulan Berdasarkan Cohort"
      ]
    },
    {
      "cell_type": "markdown",
      "metadata": {
        "id": "FfkB0nD0CB8q"
      },
      "source": [
        "Untuk dapat menghitung pesanan per bulan, saya akan menambahkan kolom waktu bulan penjualan."
      ]
    },
    {
      "cell_type": "code",
      "execution_count": null,
      "metadata": {
        "scrolled": true,
        "colab": {
          "base_uri": "https://localhost:8080/",
          "height": 206
        },
        "id": "bqVX41jDCB8q",
        "outputId": "66a13107-d65a-420c-a339-7ad54d14b0d9"
      },
      "outputs": [
        {
          "output_type": "execute_result",
          "data": {
            "text/plain": [
              "               buy_ts  revenue                   uid        first_access  \\\n",
              "0 2017-06-01 00:10:00    17.00  10329302124590727494 2017-06-01 00:09:00   \n",
              "1 2017-06-01 00:25:00     0.55  11627257723692907447 2017-06-01 00:14:00   \n",
              "2 2017-06-01 00:27:00     0.37  17903680561304213844 2017-06-01 00:25:00   \n",
              "3 2017-06-01 00:29:00     0.55  16109239769442553005 2017-06-01 00:14:00   \n",
              "4 2017-06-01 07:58:00     0.37  14200605875248379450 2017-06-01 07:31:00   \n",
              "\n",
              "   coversion_time  coversion_days first_access_month buy_ts_month  \n",
              "0 0 days 00:01:00               0            2017-06      2017-06  \n",
              "1 0 days 00:11:00               0            2017-06      2017-06  \n",
              "2 0 days 00:02:00               0            2017-06      2017-06  \n",
              "3 0 days 00:15:00               0            2017-06      2017-06  \n",
              "4 0 days 00:27:00               0            2017-06      2017-06  "
            ],
            "text/html": [
              "\n",
              "  <div id=\"df-1d4586f5-cae9-42e7-ac94-0b170ebbb7b2\">\n",
              "    <div class=\"colab-df-container\">\n",
              "      <div>\n",
              "<style scoped>\n",
              "    .dataframe tbody tr th:only-of-type {\n",
              "        vertical-align: middle;\n",
              "    }\n",
              "\n",
              "    .dataframe tbody tr th {\n",
              "        vertical-align: top;\n",
              "    }\n",
              "\n",
              "    .dataframe thead th {\n",
              "        text-align: right;\n",
              "    }\n",
              "</style>\n",
              "<table border=\"1\" class=\"dataframe\">\n",
              "  <thead>\n",
              "    <tr style=\"text-align: right;\">\n",
              "      <th></th>\n",
              "      <th>buy_ts</th>\n",
              "      <th>revenue</th>\n",
              "      <th>uid</th>\n",
              "      <th>first_access</th>\n",
              "      <th>coversion_time</th>\n",
              "      <th>coversion_days</th>\n",
              "      <th>first_access_month</th>\n",
              "      <th>buy_ts_month</th>\n",
              "    </tr>\n",
              "  </thead>\n",
              "  <tbody>\n",
              "    <tr>\n",
              "      <th>0</th>\n",
              "      <td>2017-06-01 00:10:00</td>\n",
              "      <td>17.00</td>\n",
              "      <td>10329302124590727494</td>\n",
              "      <td>2017-06-01 00:09:00</td>\n",
              "      <td>0 days 00:01:00</td>\n",
              "      <td>0</td>\n",
              "      <td>2017-06</td>\n",
              "      <td>2017-06</td>\n",
              "    </tr>\n",
              "    <tr>\n",
              "      <th>1</th>\n",
              "      <td>2017-06-01 00:25:00</td>\n",
              "      <td>0.55</td>\n",
              "      <td>11627257723692907447</td>\n",
              "      <td>2017-06-01 00:14:00</td>\n",
              "      <td>0 days 00:11:00</td>\n",
              "      <td>0</td>\n",
              "      <td>2017-06</td>\n",
              "      <td>2017-06</td>\n",
              "    </tr>\n",
              "    <tr>\n",
              "      <th>2</th>\n",
              "      <td>2017-06-01 00:27:00</td>\n",
              "      <td>0.37</td>\n",
              "      <td>17903680561304213844</td>\n",
              "      <td>2017-06-01 00:25:00</td>\n",
              "      <td>0 days 00:02:00</td>\n",
              "      <td>0</td>\n",
              "      <td>2017-06</td>\n",
              "      <td>2017-06</td>\n",
              "    </tr>\n",
              "    <tr>\n",
              "      <th>3</th>\n",
              "      <td>2017-06-01 00:29:00</td>\n",
              "      <td>0.55</td>\n",
              "      <td>16109239769442553005</td>\n",
              "      <td>2017-06-01 00:14:00</td>\n",
              "      <td>0 days 00:15:00</td>\n",
              "      <td>0</td>\n",
              "      <td>2017-06</td>\n",
              "      <td>2017-06</td>\n",
              "    </tr>\n",
              "    <tr>\n",
              "      <th>4</th>\n",
              "      <td>2017-06-01 07:58:00</td>\n",
              "      <td>0.37</td>\n",
              "      <td>14200605875248379450</td>\n",
              "      <td>2017-06-01 07:31:00</td>\n",
              "      <td>0 days 00:27:00</td>\n",
              "      <td>0</td>\n",
              "      <td>2017-06</td>\n",
              "      <td>2017-06</td>\n",
              "    </tr>\n",
              "  </tbody>\n",
              "</table>\n",
              "</div>\n",
              "      <button class=\"colab-df-convert\" onclick=\"convertToInteractive('df-1d4586f5-cae9-42e7-ac94-0b170ebbb7b2')\"\n",
              "              title=\"Convert this dataframe to an interactive table.\"\n",
              "              style=\"display:none;\">\n",
              "        \n",
              "  <svg xmlns=\"http://www.w3.org/2000/svg\" height=\"24px\"viewBox=\"0 0 24 24\"\n",
              "       width=\"24px\">\n",
              "    <path d=\"M0 0h24v24H0V0z\" fill=\"none\"/>\n",
              "    <path d=\"M18.56 5.44l.94 2.06.94-2.06 2.06-.94-2.06-.94-.94-2.06-.94 2.06-2.06.94zm-11 1L8.5 8.5l.94-2.06 2.06-.94-2.06-.94L8.5 2.5l-.94 2.06-2.06.94zm10 10l.94 2.06.94-2.06 2.06-.94-2.06-.94-.94-2.06-.94 2.06-2.06.94z\"/><path d=\"M17.41 7.96l-1.37-1.37c-.4-.4-.92-.59-1.43-.59-.52 0-1.04.2-1.43.59L10.3 9.45l-7.72 7.72c-.78.78-.78 2.05 0 2.83L4 21.41c.39.39.9.59 1.41.59.51 0 1.02-.2 1.41-.59l7.78-7.78 2.81-2.81c.8-.78.8-2.07 0-2.86zM5.41 20L4 18.59l7.72-7.72 1.47 1.35L5.41 20z\"/>\n",
              "  </svg>\n",
              "      </button>\n",
              "      \n",
              "  <style>\n",
              "    .colab-df-container {\n",
              "      display:flex;\n",
              "      flex-wrap:wrap;\n",
              "      gap: 12px;\n",
              "    }\n",
              "\n",
              "    .colab-df-convert {\n",
              "      background-color: #E8F0FE;\n",
              "      border: none;\n",
              "      border-radius: 50%;\n",
              "      cursor: pointer;\n",
              "      display: none;\n",
              "      fill: #1967D2;\n",
              "      height: 32px;\n",
              "      padding: 0 0 0 0;\n",
              "      width: 32px;\n",
              "    }\n",
              "\n",
              "    .colab-df-convert:hover {\n",
              "      background-color: #E2EBFA;\n",
              "      box-shadow: 0px 1px 2px rgba(60, 64, 67, 0.3), 0px 1px 3px 1px rgba(60, 64, 67, 0.15);\n",
              "      fill: #174EA6;\n",
              "    }\n",
              "\n",
              "    [theme=dark] .colab-df-convert {\n",
              "      background-color: #3B4455;\n",
              "      fill: #D2E3FC;\n",
              "    }\n",
              "\n",
              "    [theme=dark] .colab-df-convert:hover {\n",
              "      background-color: #434B5C;\n",
              "      box-shadow: 0px 1px 3px 1px rgba(0, 0, 0, 0.15);\n",
              "      filter: drop-shadow(0px 1px 2px rgba(0, 0, 0, 0.3));\n",
              "      fill: #FFFFFF;\n",
              "    }\n",
              "  </style>\n",
              "\n",
              "      <script>\n",
              "        const buttonEl =\n",
              "          document.querySelector('#df-1d4586f5-cae9-42e7-ac94-0b170ebbb7b2 button.colab-df-convert');\n",
              "        buttonEl.style.display =\n",
              "          google.colab.kernel.accessAllowed ? 'block' : 'none';\n",
              "\n",
              "        async function convertToInteractive(key) {\n",
              "          const element = document.querySelector('#df-1d4586f5-cae9-42e7-ac94-0b170ebbb7b2');\n",
              "          const dataTable =\n",
              "            await google.colab.kernel.invokeFunction('convertToInteractive',\n",
              "                                                     [key], {});\n",
              "          if (!dataTable) return;\n",
              "\n",
              "          const docLinkHtml = 'Like what you see? Visit the ' +\n",
              "            '<a target=\"_blank\" href=https://colab.research.google.com/notebooks/data_table.ipynb>data table notebook</a>'\n",
              "            + ' to learn more about interactive tables.';\n",
              "          element.innerHTML = '';\n",
              "          dataTable['output_type'] = 'display_data';\n",
              "          await google.colab.output.renderOutput(dataTable, element);\n",
              "          const docLink = document.createElement('div');\n",
              "          docLink.innerHTML = docLinkHtml;\n",
              "          element.appendChild(docLink);\n",
              "        }\n",
              "      </script>\n",
              "    </div>\n",
              "  </div>\n",
              "  "
            ]
          },
          "metadata": {},
          "execution_count": 20
        }
      ],
      "source": [
        "orders_['buy_ts_month'] = orders_['buy_ts'].dt.to_period('M')\n",
        "orders_['first_access_month'] = orders_['first_access_month'].dt.to_period('M')\n",
        "orders_.head()"
      ]
    },
    {
      "cell_type": "markdown",
      "metadata": {
        "id": "2In3UvcbCB8q"
      },
      "source": [
        "Kolom bulan penjualan telah berhasil ditambahkan dengan nama `buy_ts_month`. Selanjutnya saya akan membuat pivot tabelnya. "
      ]
    },
    {
      "cell_type": "code",
      "execution_count": null,
      "metadata": {
        "colab": {
          "base_uri": "https://localhost:8080/",
          "height": 575
        },
        "id": "A8WG5Za7CB8r",
        "outputId": "6944a9f2-24ae-44ab-f990-ae609cf2d56c"
      },
      "outputs": [
        {
          "output_type": "display_data",
          "data": {
            "text/plain": [
              "<Figure size 1440x648 with 2 Axes>"
            ],
            "image/png": "[encoded data removed]"
          },
          "metadata": {
            "needs_background": "light"
          }
        }
      ],
      "source": [
        "orders_per_m_by_cohort = orders_.pivot_table(\n",
        "    index='first_access_month',\n",
        "    columns = ['buy_ts_month'],\n",
        "    values = 'revenue',\n",
        "    aggfunc = 'count'\n",
        ")\n",
        "\n",
        "plt.figure(figsize=(20, 9))\n",
        "plt.title('Order per Month by Cohort', size=18)\n",
        "sns.heatmap(\n",
        "    orders_per_m_by_cohort,\n",
        "    annot=True,\n",
        "    linewidths=1,\n",
        "    linecolor='black')\n",
        "\n",
        "plt.ylabel('Cohort', size=14)\n",
        "plt.xlabel('Month', size=14)\n",
        "plt.show()"
      ]
    },
    {
      "cell_type": "markdown",
      "source": [],
      "metadata": {
        "id": "0TUQQ0_PEXxR"
      }
    },
    {
      "cell_type": "markdown",
      "source": [
        "Fenomena yang menarik terjadi pada setiap `cohort` adalah pada bulan pertama terjadi sangat banyak. Mulai dari 1,900 hingga 4,300. Namun pada bulan kedua turun hingga dibawah 1,000 transaksi. Mulai dari `180` hingga `770` transaksi.\n",
        "\n",
        "Selain itu pada bulan `Juni 2018` terjadi anomali karena hanya terjadi 1 transaksi dari semua `cohort`. Kemungkinan ada gangguan pada situs sehinggga terjadi pengguna mengalami kesulitan ketika ingin melakukan transaksi.  "
      ],
      "metadata": {
        "id": "yW_WA06fFOTJ"
      }
    },
    {
      "cell_type": "markdown",
      "source": [
        "#### Rata-Rata Pendapatan per Bulan Berdasarkan Cohort"
      ],
      "metadata": {
        "id": "Wjf365eMJbNo"
      }
    },
    {
      "cell_type": "code",
      "source": [
        "avg_rev_per_m_by_cohort = orders_.pivot_table(\n",
        "    index='first_access_month',\n",
        "    columns='buy_ts_month',\n",
        "    values='revenue',\n",
        "    aggfunc='mean'\n",
        ")\n",
        "\n",
        "plt.figure(figsize=(20, 9))\n",
        "plt.title('Average Revenue per Month by Cohort', size=18)\n",
        "sns.heatmap(\n",
        "    avg_rev_per_m_by_cohort,\n",
        "    fmt='.2f',\n",
        "    annot=True,\n",
        "    linewidths=1,\n",
        "    linecolor='black')\n",
        "\n",
        "plt.ylabel('Cohort', size=14)\n",
        "plt.xlabel('Month', size=14)\n",
        "plt.show()"
      ],
      "metadata": {
        "colab": {
          "base_uri": "https://localhost:8080/",
          "height": 575
        },
        "id": "8xzvZUdcJaSp",
        "outputId": "01738e19-3689-4eb4-f84c-903dc59f86b3"
      },
      "execution_count": null,
      "outputs": [
        {
          "output_type": "display_data",
          "data": {
            "text/plain": [
              "<Figure size 1440x648 with 2 Axes>"
            ],
            "image/png": "[encoded data removed]"
          },
          "metadata": {
            "needs_background": "light"
          }
        }
      ]
    },
    {
      "cell_type": "markdown",
      "source": [],
      "metadata": {
        "id": "PH74BRA7Lh9I"
      }
    },
    {
      "cell_type": "markdown",
      "source": [
        "Dari visualisasi `heatmap` diatas memperlihatkan `cohort` bulan `Desember 2017` melakukan pembelian relatif lebih tinggi dibandingkan `cohort` lainnya. Terutama pada bulan `Februari` hingga `Mei` 2018.\n",
        "\n",
        "Pada bulan `Maret` dan `April` tahun `2018` juga terjadi kenaikan rata-rata pembelian pada beberapa `Cohort`. Kenaikan terjadi pada `cohort` `2017-06`, `2017-08`, dan `2017-12`."
      ],
      "metadata": {
        "id": "xsCKUvIaLsMQ"
      }
    },
    {
      "cell_type": "markdown",
      "source": [],
      "metadata": {
        "id": "zEfaL2_ILsBk"
      }
    },
    {
      "cell_type": "markdown",
      "source": [
        "#### Analisa Lifetime Value (LTV) Pengguna Situs Y.Afisha"
      ],
      "metadata": {
        "id": "QEOPzvKYRLai"
      }
    },
    {
      "cell_type": "markdown",
      "source": [
        " Jika pada sebelumnya analisa `cohort` menggunakan waktu pertama kali pengguna mengakses situs `Y.Afisha`. Pada analisa `LTV` analisa cohort bedasarkan waktu pertama kali seorang pengguna membuat transaksi. Untuk itu saya akan membuat kolom `first_buy_month`.  "
      ],
      "metadata": {
        "id": "3eM-C-RtSdV3"
      }
    },
    {
      "cell_type": "code",
      "source": [
        "orders_ltv = orders.copy()\n",
        "orders_ltv['buy_month'] = orders_ltv['buy_ts'].astype('datetime64[M]')\n",
        "first_orders = orders_ltv.groupby('uid').agg({'buy_month':'min'}).reset_index()\n",
        "first_orders.columns = ['uid', 'first_buy_month']\n",
        "first_orders.head()"
      ],
      "metadata": {
        "colab": {
          "base_uri": "https://localhost:8080/",
          "height": 206
        },
        "id": "yZJKoDdXhcg4",
        "outputId": "58856326-6f52-4957-a095-a88d88f913ae"
      },
      "execution_count": null,
      "outputs": [
        {
          "output_type": "execute_result",
          "data": {
            "text/plain": [
              "                uid first_buy_month\n",
              "0   313578113262317      2018-01-01\n",
              "1  1575281904278712      2017-06-01\n",
              "2  2429014661409475      2017-10-01\n",
              "3  2464366381792757      2018-01-01\n",
              "4  2551852515556206      2017-11-01"
            ],
            "text/html": [
              "\n",
              "  <div id=\"df-02d34916-94fa-471f-8627-3db879c774c7\">\n",
              "    <div class=\"colab-df-container\">\n",
              "      <div>\n",
              "<style scoped>\n",
              "    .dataframe tbody tr th:only-of-type {\n",
              "        vertical-align: middle;\n",
              "    }\n",
              "\n",
              "    .dataframe tbody tr th {\n",
              "        vertical-align: top;\n",
              "    }\n",
              "\n",
              "    .dataframe thead th {\n",
              "        text-align: right;\n",
              "    }\n",
              "</style>\n",
              "<table border=\"1\" class=\"dataframe\">\n",
              "  <thead>\n",
              "    <tr style=\"text-align: right;\">\n",
              "      <th></th>\n",
              "      <th>uid</th>\n",
              "      <th>first_buy_month</th>\n",
              "    </tr>\n",
              "  </thead>\n",
              "  <tbody>\n",
              "    <tr>\n",
              "      <th>0</th>\n",
              "      <td>313578113262317</td>\n",
              "      <td>2018-01-01</td>\n",
              "    </tr>\n",
              "    <tr>\n",
              "      <th>1</th>\n",
              "      <td>1575281904278712</td>\n",
              "      <td>2017-06-01</td>\n",
              "    </tr>\n",
              "    <tr>\n",
              "      <th>2</th>\n",
              "      <td>2429014661409475</td>\n",
              "      <td>2017-10-01</td>\n",
              "    </tr>\n",
              "    <tr>\n",
              "      <th>3</th>\n",
              "      <td>2464366381792757</td>\n",
              "      <td>2018-01-01</td>\n",
              "    </tr>\n",
              "    <tr>\n",
              "      <th>4</th>\n",
              "      <td>2551852515556206</td>\n",
              "      <td>2017-11-01</td>\n",
              "    </tr>\n",
              "  </tbody>\n",
              "</table>\n",
              "</div>\n",
              "      <button class=\"colab-df-convert\" onclick=\"convertToInteractive('df-02d34916-94fa-471f-8627-3db879c774c7')\"\n",
              "              title=\"Convert this dataframe to an interactive table.\"\n",
              "              style=\"display:none;\">\n",
              "        \n",
              "  <svg xmlns=\"http://www.w3.org/2000/svg\" height=\"24px\"viewBox=\"0 0 24 24\"\n",
              "       width=\"24px\">\n",
              "    <path d=\"M0 0h24v24H0V0z\" fill=\"none\"/>\n",
              "    <path d=\"M18.56 5.44l.94 2.06.94-2.06 2.06-.94-2.06-.94-.94-2.06-.94 2.06-2.06.94zm-11 1L8.5 8.5l.94-2.06 2.06-.94-2.06-.94L8.5 2.5l-.94 2.06-2.06.94zm10 10l.94 2.06.94-2.06 2.06-.94-2.06-.94-.94-2.06-.94 2.06-2.06.94z\"/><path d=\"M17.41 7.96l-1.37-1.37c-.4-.4-.92-.59-1.43-.59-.52 0-1.04.2-1.43.59L10.3 9.45l-7.72 7.72c-.78.78-.78 2.05 0 2.83L4 21.41c.39.39.9.59 1.41.59.51 0 1.02-.2 1.41-.59l7.78-7.78 2.81-2.81c.8-.78.8-2.07 0-2.86zM5.41 20L4 18.59l7.72-7.72 1.47 1.35L5.41 20z\"/>\n",
              "  </svg>\n",
              "      </button>\n",
              "      \n",
              "  <style>\n",
              "    .colab-df-container {\n",
              "      display:flex;\n",
              "      flex-wrap:wrap;\n",
              "      gap: 12px;\n",
              "    }\n",
              "\n",
              "    .colab-df-convert {\n",
              "      background-color: #E8F0FE;\n",
              "      border: none;\n",
              "      border-radius: 50%;\n",
              "      cursor: pointer;\n",
              "      display: none;\n",
              "      fill: #1967D2;\n",
              "      height: 32px;\n",
              "      padding: 0 0 0 0;\n",
              "      width: 32px;\n",
              "    }\n",
              "\n",
              "    .colab-df-convert:hover {\n",
              "      background-color: #E2EBFA;\n",
              "      box-shadow: 0px 1px 2px rgba(60, 64, 67, 0.3), 0px 1px 3px 1px rgba(60, 64, 67, 0.15);\n",
              "      fill: #174EA6;\n",
              "    }\n",
              "\n",
              "    [theme=dark] .colab-df-convert {\n",
              "      background-color: #3B4455;\n",
              "      fill: #D2E3FC;\n",
              "    }\n",
              "\n",
              "    [theme=dark] .colab-df-convert:hover {\n",
              "      background-color: #434B5C;\n",
              "      box-shadow: 0px 1px 3px 1px rgba(0, 0, 0, 0.15);\n",
              "      filter: drop-shadow(0px 1px 2px rgba(0, 0, 0, 0.3));\n",
              "      fill: #FFFFFF;\n",
              "    }\n",
              "  </style>\n",
              "\n",
              "      <script>\n",
              "        const buttonEl =\n",
              "          document.querySelector('#df-02d34916-94fa-471f-8627-3db879c774c7 button.colab-df-convert');\n",
              "        buttonEl.style.display =\n",
              "          google.colab.kernel.accessAllowed ? 'block' : 'none';\n",
              "\n",
              "        async function convertToInteractive(key) {\n",
              "          const element = document.querySelector('#df-02d34916-94fa-471f-8627-3db879c774c7');\n",
              "          const dataTable =\n",
              "            await google.colab.kernel.invokeFunction('convertToInteractive',\n",
              "                                                     [key], {});\n",
              "          if (!dataTable) return;\n",
              "\n",
              "          const docLinkHtml = 'Like what you see? Visit the ' +\n",
              "            '<a target=\"_blank\" href=https://colab.research.google.com/notebooks/data_table.ipynb>data table notebook</a>'\n",
              "            + ' to learn more about interactive tables.';\n",
              "          element.innerHTML = '';\n",
              "          dataTable['output_type'] = 'display_data';\n",
              "          await google.colab.output.renderOutput(dataTable, element);\n",
              "          const docLink = document.createElement('div');\n",
              "          docLink.innerHTML = docLinkHtml;\n",
              "          element.appendChild(docLink);\n",
              "        }\n",
              "      </script>\n",
              "    </div>\n",
              "  </div>\n",
              "  "
            ]
          },
          "metadata": {},
          "execution_count": 23
        }
      ]
    },
    {
      "cell_type": "markdown",
      "source": [
        "Kolom `first_buy_month` telah berhasil dibuat. Selanjutnya saya perlu membuat kolom `n_buyers` yang informasinya memuat jumlah `user id` per `cohort` pembelian. "
      ],
      "metadata": {
        "id": "HhdqRHpfjuPN"
      }
    },
    {
      "cell_type": "code",
      "source": [
        "cohort_sizes = (\n",
        "    first_orders.groupby('first_buy_month').agg({'uid':'nunique'}).reset_index()\n",
        ")\n",
        "cohort_sizes.columns = ['first_buy_month', 'n_buyers']\n",
        "cohort_sizes.head()"
      ],
      "metadata": {
        "colab": {
          "base_uri": "https://localhost:8080/",
          "height": 206
        },
        "id": "cVKTxITfjbdN",
        "outputId": "29827f65-453b-48a9-c0a2-b29c5c1fca5e"
      },
      "execution_count": null,
      "outputs": [
        {
          "output_type": "execute_result",
          "data": {
            "text/plain": [
              "  first_buy_month  n_buyers\n",
              "0      2017-06-01      2023\n",
              "1      2017-07-01      1923\n",
              "2      2017-08-01      1370\n",
              "3      2017-09-01      2581\n",
              "4      2017-10-01      4340"
            ],
            "text/html": [
              "\n",
              "  <div id=\"df-95aac7e2-4ca0-4fe6-a255-5eb40e946be2\">\n",
              "    <div class=\"colab-df-container\">\n",
              "      <div>\n",
              "<style scoped>\n",
              "    .dataframe tbody tr th:only-of-type {\n",
              "        vertical-align: middle;\n",
              "    }\n",
              "\n",
              "    .dataframe tbody tr th {\n",
              "        vertical-align: top;\n",
              "    }\n",
              "\n",
              "    .dataframe thead th {\n",
              "        text-align: right;\n",
              "    }\n",
              "</style>\n",
              "<table border=\"1\" class=\"dataframe\">\n",
              "  <thead>\n",
              "    <tr style=\"text-align: right;\">\n",
              "      <th></th>\n",
              "      <th>first_buy_month</th>\n",
              "      <th>n_buyers</th>\n",
              "    </tr>\n",
              "  </thead>\n",
              "  <tbody>\n",
              "    <tr>\n",
              "      <th>0</th>\n",
              "      <td>2017-06-01</td>\n",
              "      <td>2023</td>\n",
              "    </tr>\n",
              "    <tr>\n",
              "      <th>1</th>\n",
              "      <td>2017-07-01</td>\n",
              "      <td>1923</td>\n",
              "    </tr>\n",
              "    <tr>\n",
              "      <th>2</th>\n",
              "      <td>2017-08-01</td>\n",
              "      <td>1370</td>\n",
              "    </tr>\n",
              "    <tr>\n",
              "      <th>3</th>\n",
              "      <td>2017-09-01</td>\n",
              "      <td>2581</td>\n",
              "    </tr>\n",
              "    <tr>\n",
              "      <th>4</th>\n",
              "      <td>2017-10-01</td>\n",
              "      <td>4340</td>\n",
              "    </tr>\n",
              "  </tbody>\n",
              "</table>\n",
              "</div>\n",
              "      <button class=\"colab-df-convert\" onclick=\"convertToInteractive('df-95aac7e2-4ca0-4fe6-a255-5eb40e946be2')\"\n",
              "              title=\"Convert this dataframe to an interactive table.\"\n",
              "              style=\"display:none;\">\n",
              "        \n",
              "  <svg xmlns=\"http://www.w3.org/2000/svg\" height=\"24px\"viewBox=\"0 0 24 24\"\n",
              "       width=\"24px\">\n",
              "    <path d=\"M0 0h24v24H0V0z\" fill=\"none\"/>\n",
              "    <path d=\"M18.56 5.44l.94 2.06.94-2.06 2.06-.94-2.06-.94-.94-2.06-.94 2.06-2.06.94zm-11 1L8.5 8.5l.94-2.06 2.06-.94-2.06-.94L8.5 2.5l-.94 2.06-2.06.94zm10 10l.94 2.06.94-2.06 2.06-.94-2.06-.94-.94-2.06-.94 2.06-2.06.94z\"/><path d=\"M17.41 7.96l-1.37-1.37c-.4-.4-.92-.59-1.43-.59-.52 0-1.04.2-1.43.59L10.3 9.45l-7.72 7.72c-.78.78-.78 2.05 0 2.83L4 21.41c.39.39.9.59 1.41.59.51 0 1.02-.2 1.41-.59l7.78-7.78 2.81-2.81c.8-.78.8-2.07 0-2.86zM5.41 20L4 18.59l7.72-7.72 1.47 1.35L5.41 20z\"/>\n",
              "  </svg>\n",
              "      </button>\n",
              "      \n",
              "  <style>\n",
              "    .colab-df-container {\n",
              "      display:flex;\n",
              "      flex-wrap:wrap;\n",
              "      gap: 12px;\n",
              "    }\n",
              "\n",
              "    .colab-df-convert {\n",
              "      background-color: #E8F0FE;\n",
              "      border: none;\n",
              "      border-radius: 50%;\n",
              "      cursor: pointer;\n",
              "      display: none;\n",
              "      fill: #1967D2;\n",
              "      height: 32px;\n",
              "      padding: 0 0 0 0;\n",
              "      width: 32px;\n",
              "    }\n",
              "\n",
              "    .colab-df-convert:hover {\n",
              "      background-color: #E2EBFA;\n",
              "      box-shadow: 0px 1px 2px rgba(60, 64, 67, 0.3), 0px 1px 3px 1px rgba(60, 64, 67, 0.15);\n",
              "      fill: #174EA6;\n",
              "    }\n",
              "\n",
              "    [theme=dark] .colab-df-convert {\n",
              "      background-color: #3B4455;\n",
              "      fill: #D2E3FC;\n",
              "    }\n",
              "\n",
              "    [theme=dark] .colab-df-convert:hover {\n",
              "      background-color: #434B5C;\n",
              "      box-shadow: 0px 1px 3px 1px rgba(0, 0, 0, 0.15);\n",
              "      filter: drop-shadow(0px 1px 2px rgba(0, 0, 0, 0.3));\n",
              "      fill: #FFFFFF;\n",
              "    }\n",
              "  </style>\n",
              "\n",
              "      <script>\n",
              "        const buttonEl =\n",
              "          document.querySelector('#df-95aac7e2-4ca0-4fe6-a255-5eb40e946be2 button.colab-df-convert');\n",
              "        buttonEl.style.display =\n",
              "          google.colab.kernel.accessAllowed ? 'block' : 'none';\n",
              "\n",
              "        async function convertToInteractive(key) {\n",
              "          const element = document.querySelector('#df-95aac7e2-4ca0-4fe6-a255-5eb40e946be2');\n",
              "          const dataTable =\n",
              "            await google.colab.kernel.invokeFunction('convertToInteractive',\n",
              "                                                     [key], {});\n",
              "          if (!dataTable) return;\n",
              "\n",
              "          const docLinkHtml = 'Like what you see? Visit the ' +\n",
              "            '<a target=\"_blank\" href=https://colab.research.google.com/notebooks/data_table.ipynb>data table notebook</a>'\n",
              "            + ' to learn more about interactive tables.';\n",
              "          element.innerHTML = '';\n",
              "          dataTable['output_type'] = 'display_data';\n",
              "          await google.colab.output.renderOutput(dataTable, element);\n",
              "          const docLink = document.createElement('div');\n",
              "          docLink.innerHTML = docLinkHtml;\n",
              "          element.appendChild(docLink);\n",
              "        }\n",
              "      </script>\n",
              "    </div>\n",
              "  </div>\n",
              "  "
            ]
          },
          "metadata": {},
          "execution_count": 24
        }
      ]
    },
    {
      "cell_type": "markdown",
      "source": [
        "Kolom `n_buyers` telah berhasil ditambahkan. sekarang saya kakn menggabungkan `cohort` `first_buy_month` kedalam tabel `orders_ltv`."
      ],
      "metadata": {
        "id": "oPgAP_QYmR6S"
      }
    },
    {
      "cell_type": "code",
      "source": [
        "orders_ltv = orders_ltv.merge(first_orders, on='uid')\n",
        "orders_ltv.head()"
      ],
      "metadata": {
        "colab": {
          "base_uri": "https://localhost:8080/",
          "height": 206
        },
        "id": "No7v4nQimQ77",
        "outputId": "59ebd0e8-9927-40b3-e319-0f33d2f1012e"
      },
      "execution_count": null,
      "outputs": [
        {
          "output_type": "execute_result",
          "data": {
            "text/plain": [
              "               buy_ts  revenue                   uid  buy_month  \\\n",
              "0 2017-06-01 00:10:00    17.00  10329302124590727494 2017-06-01   \n",
              "1 2017-06-01 00:25:00     0.55  11627257723692907447 2017-06-01   \n",
              "2 2017-06-01 00:27:00     0.37  17903680561304213844 2017-06-01   \n",
              "3 2017-06-01 00:29:00     0.55  16109239769442553005 2017-06-01   \n",
              "4 2017-06-01 07:58:00     0.37  14200605875248379450 2017-06-01   \n",
              "\n",
              "  first_buy_month  \n",
              "0      2017-06-01  \n",
              "1      2017-06-01  \n",
              "2      2017-06-01  \n",
              "3      2017-06-01  \n",
              "4      2017-06-01  "
            ],
            "text/html": [
              "\n",
              "  <div id=\"df-18c071d1-df34-4c16-b36e-b3ad1f48f989\">\n",
              "    <div class=\"colab-df-container\">\n",
              "      <div>\n",
              "<style scoped>\n",
              "    .dataframe tbody tr th:only-of-type {\n",
              "        vertical-align: middle;\n",
              "    }\n",
              "\n",
              "    .dataframe tbody tr th {\n",
              "        vertical-align: top;\n",
              "    }\n",
              "\n",
              "    .dataframe thead th {\n",
              "        text-align: right;\n",
              "    }\n",
              "</style>\n",
              "<table border=\"1\" class=\"dataframe\">\n",
              "  <thead>\n",
              "    <tr style=\"text-align: right;\">\n",
              "      <th></th>\n",
              "      <th>buy_ts</th>\n",
              "      <th>revenue</th>\n",
              "      <th>uid</th>\n",
              "      <th>buy_month</th>\n",
              "      <th>first_buy_month</th>\n",
              "    </tr>\n",
              "  </thead>\n",
              "  <tbody>\n",
              "    <tr>\n",
              "      <th>0</th>\n",
              "      <td>2017-06-01 00:10:00</td>\n",
              "      <td>17.00</td>\n",
              "      <td>10329302124590727494</td>\n",
              "      <td>2017-06-01</td>\n",
              "      <td>2017-06-01</td>\n",
              "    </tr>\n",
              "    <tr>\n",
              "      <th>1</th>\n",
              "      <td>2017-06-01 00:25:00</td>\n",
              "      <td>0.55</td>\n",
              "      <td>11627257723692907447</td>\n",
              "      <td>2017-06-01</td>\n",
              "      <td>2017-06-01</td>\n",
              "    </tr>\n",
              "    <tr>\n",
              "      <th>2</th>\n",
              "      <td>2017-06-01 00:27:00</td>\n",
              "      <td>0.37</td>\n",
              "      <td>17903680561304213844</td>\n",
              "      <td>2017-06-01</td>\n",
              "      <td>2017-06-01</td>\n",
              "    </tr>\n",
              "    <tr>\n",
              "      <th>3</th>\n",
              "      <td>2017-06-01 00:29:00</td>\n",
              "      <td>0.55</td>\n",
              "      <td>16109239769442553005</td>\n",
              "      <td>2017-06-01</td>\n",
              "      <td>2017-06-01</td>\n",
              "    </tr>\n",
              "    <tr>\n",
              "      <th>4</th>\n",
              "      <td>2017-06-01 07:58:00</td>\n",
              "      <td>0.37</td>\n",
              "      <td>14200605875248379450</td>\n",
              "      <td>2017-06-01</td>\n",
              "      <td>2017-06-01</td>\n",
              "    </tr>\n",
              "  </tbody>\n",
              "</table>\n",
              "</div>\n",
              "      <button class=\"colab-df-convert\" onclick=\"convertToInteractive('df-18c071d1-df34-4c16-b36e-b3ad1f48f989')\"\n",
              "              title=\"Convert this dataframe to an interactive table.\"\n",
              "              style=\"display:none;\">\n",
              "        \n",
              "  <svg xmlns=\"http://www.w3.org/2000/svg\" height=\"24px\"viewBox=\"0 0 24 24\"\n",
              "       width=\"24px\">\n",
              "    <path d=\"M0 0h24v24H0V0z\" fill=\"none\"/>\n",
              "    <path d=\"M18.56 5.44l.94 2.06.94-2.06 2.06-.94-2.06-.94-.94-2.06-.94 2.06-2.06.94zm-11 1L8.5 8.5l.94-2.06 2.06-.94-2.06-.94L8.5 2.5l-.94 2.06-2.06.94zm10 10l.94 2.06.94-2.06 2.06-.94-2.06-.94-.94-2.06-.94 2.06-2.06.94z\"/><path d=\"M17.41 7.96l-1.37-1.37c-.4-.4-.92-.59-1.43-.59-.52 0-1.04.2-1.43.59L10.3 9.45l-7.72 7.72c-.78.78-.78 2.05 0 2.83L4 21.41c.39.39.9.59 1.41.59.51 0 1.02-.2 1.41-.59l7.78-7.78 2.81-2.81c.8-.78.8-2.07 0-2.86zM5.41 20L4 18.59l7.72-7.72 1.47 1.35L5.41 20z\"/>\n",
              "  </svg>\n",
              "      </button>\n",
              "      \n",
              "  <style>\n",
              "    .colab-df-container {\n",
              "      display:flex;\n",
              "      flex-wrap:wrap;\n",
              "      gap: 12px;\n",
              "    }\n",
              "\n",
              "    .colab-df-convert {\n",
              "      background-color: #E8F0FE;\n",
              "      border: none;\n",
              "      border-radius: 50%;\n",
              "      cursor: pointer;\n",
              "      display: none;\n",
              "      fill: #1967D2;\n",
              "      height: 32px;\n",
              "      padding: 0 0 0 0;\n",
              "      width: 32px;\n",
              "    }\n",
              "\n",
              "    .colab-df-convert:hover {\n",
              "      background-color: #E2EBFA;\n",
              "      box-shadow: 0px 1px 2px rgba(60, 64, 67, 0.3), 0px 1px 3px 1px rgba(60, 64, 67, 0.15);\n",
              "      fill: #174EA6;\n",
              "    }\n",
              "\n",
              "    [theme=dark] .colab-df-convert {\n",
              "      background-color: #3B4455;\n",
              "      fill: #D2E3FC;\n",
              "    }\n",
              "\n",
              "    [theme=dark] .colab-df-convert:hover {\n",
              "      background-color: #434B5C;\n",
              "      box-shadow: 0px 1px 3px 1px rgba(0, 0, 0, 0.15);\n",
              "      filter: drop-shadow(0px 1px 2px rgba(0, 0, 0, 0.3));\n",
              "      fill: #FFFFFF;\n",
              "    }\n",
              "  </style>\n",
              "\n",
              "      <script>\n",
              "        const buttonEl =\n",
              "          document.querySelector('#df-18c071d1-df34-4c16-b36e-b3ad1f48f989 button.colab-df-convert');\n",
              "        buttonEl.style.display =\n",
              "          google.colab.kernel.accessAllowed ? 'block' : 'none';\n",
              "\n",
              "        async function convertToInteractive(key) {\n",
              "          const element = document.querySelector('#df-18c071d1-df34-4c16-b36e-b3ad1f48f989');\n",
              "          const dataTable =\n",
              "            await google.colab.kernel.invokeFunction('convertToInteractive',\n",
              "                                                     [key], {});\n",
              "          if (!dataTable) return;\n",
              "\n",
              "          const docLinkHtml = 'Like what you see? Visit the ' +\n",
              "            '<a target=\"_blank\" href=https://colab.research.google.com/notebooks/data_table.ipynb>data table notebook</a>'\n",
              "            + ' to learn more about interactive tables.';\n",
              "          element.innerHTML = '';\n",
              "          dataTable['output_type'] = 'display_data';\n",
              "          await google.colab.output.renderOutput(dataTable, element);\n",
              "          const docLink = document.createElement('div');\n",
              "          docLink.innerHTML = docLinkHtml;\n",
              "          element.appendChild(docLink);\n",
              "        }\n",
              "      </script>\n",
              "    </div>\n",
              "  </div>\n",
              "  "
            ]
          },
          "metadata": {},
          "execution_count": 25
        }
      ]
    },
    {
      "cell_type": "markdown",
      "source": [
        "Kolom `first buy month` telah berhasil ditambahkan. Untuk dapat menghitung `LTV` saya perlu mengelompokan `revenue` berdasarkan `first_buy_month` dan `buy_month`."
      ],
      "metadata": {
        "id": "XH4fttmppU5A"
      }
    },
    {
      "cell_type": "code",
      "source": [
        "cohorts = orders_ltv.groupby(['first_buy_month', 'buy_month']).agg({'revenue':'sum'}).reset_index()\n",
        "cohorts.head()"
      ],
      "metadata": {
        "colab": {
          "base_uri": "https://localhost:8080/",
          "height": 206
        },
        "id": "gyVYzLAAn8I6",
        "outputId": "307194eb-3527-47b8-d99d-042861b64efe"
      },
      "execution_count": null,
      "outputs": [
        {
          "output_type": "execute_result",
          "data": {
            "text/plain": [
              "  first_buy_month  buy_month  revenue\n",
              "0      2017-06-01 2017-06-01  9557.49\n",
              "1      2017-06-01 2017-07-01   981.82\n",
              "2      2017-06-01 2017-08-01   885.34\n",
              "3      2017-06-01 2017-09-01  1931.30\n",
              "4      2017-06-01 2017-10-01  2068.58"
            ],
            "text/html": [
              "\n",
              "  <div id=\"df-be64706e-e8d7-46e6-8265-b3e89f08abfb\">\n",
              "    <div class=\"colab-df-container\">\n",
              "      <div>\n",
              "<style scoped>\n",
              "    .dataframe tbody tr th:only-of-type {\n",
              "        vertical-align: middle;\n",
              "    }\n",
              "\n",
              "    .dataframe tbody tr th {\n",
              "        vertical-align: top;\n",
              "    }\n",
              "\n",
              "    .dataframe thead th {\n",
              "        text-align: right;\n",
              "    }\n",
              "</style>\n",
              "<table border=\"1\" class=\"dataframe\">\n",
              "  <thead>\n",
              "    <tr style=\"text-align: right;\">\n",
              "      <th></th>\n",
              "      <th>first_buy_month</th>\n",
              "      <th>buy_month</th>\n",
              "      <th>revenue</th>\n",
              "    </tr>\n",
              "  </thead>\n",
              "  <tbody>\n",
              "    <tr>\n",
              "      <th>0</th>\n",
              "      <td>2017-06-01</td>\n",
              "      <td>2017-06-01</td>\n",
              "      <td>9557.49</td>\n",
              "    </tr>\n",
              "    <tr>\n",
              "      <th>1</th>\n",
              "      <td>2017-06-01</td>\n",
              "      <td>2017-07-01</td>\n",
              "      <td>981.82</td>\n",
              "    </tr>\n",
              "    <tr>\n",
              "      <th>2</th>\n",
              "      <td>2017-06-01</td>\n",
              "      <td>2017-08-01</td>\n",
              "      <td>885.34</td>\n",
              "    </tr>\n",
              "    <tr>\n",
              "      <th>3</th>\n",
              "      <td>2017-06-01</td>\n",
              "      <td>2017-09-01</td>\n",
              "      <td>1931.30</td>\n",
              "    </tr>\n",
              "    <tr>\n",
              "      <th>4</th>\n",
              "      <td>2017-06-01</td>\n",
              "      <td>2017-10-01</td>\n",
              "      <td>2068.58</td>\n",
              "    </tr>\n",
              "  </tbody>\n",
              "</table>\n",
              "</div>\n",
              "      <button class=\"colab-df-convert\" onclick=\"convertToInteractive('df-be64706e-e8d7-46e6-8265-b3e89f08abfb')\"\n",
              "              title=\"Convert this dataframe to an interactive table.\"\n",
              "              style=\"display:none;\">\n",
              "        \n",
              "  <svg xmlns=\"http://www.w3.org/2000/svg\" height=\"24px\"viewBox=\"0 0 24 24\"\n",
              "       width=\"24px\">\n",
              "    <path d=\"M0 0h24v24H0V0z\" fill=\"none\"/>\n",
              "    <path d=\"M18.56 5.44l.94 2.06.94-2.06 2.06-.94-2.06-.94-.94-2.06-.94 2.06-2.06.94zm-11 1L8.5 8.5l.94-2.06 2.06-.94-2.06-.94L8.5 2.5l-.94 2.06-2.06.94zm10 10l.94 2.06.94-2.06 2.06-.94-2.06-.94-.94-2.06-.94 2.06-2.06.94z\"/><path d=\"M17.41 7.96l-1.37-1.37c-.4-.4-.92-.59-1.43-.59-.52 0-1.04.2-1.43.59L10.3 9.45l-7.72 7.72c-.78.78-.78 2.05 0 2.83L4 21.41c.39.39.9.59 1.41.59.51 0 1.02-.2 1.41-.59l7.78-7.78 2.81-2.81c.8-.78.8-2.07 0-2.86zM5.41 20L4 18.59l7.72-7.72 1.47 1.35L5.41 20z\"/>\n",
              "  </svg>\n",
              "      </button>\n",
              "      \n",
              "  <style>\n",
              "    .colab-df-container {\n",
              "      display:flex;\n",
              "      flex-wrap:wrap;\n",
              "      gap: 12px;\n",
              "    }\n",
              "\n",
              "    .colab-df-convert {\n",
              "      background-color: #E8F0FE;\n",
              "      border: none;\n",
              "      border-radius: 50%;\n",
              "      cursor: pointer;\n",
              "      display: none;\n",
              "      fill: #1967D2;\n",
              "      height: 32px;\n",
              "      padding: 0 0 0 0;\n",
              "      width: 32px;\n",
              "    }\n",
              "\n",
              "    .colab-df-convert:hover {\n",
              "      background-color: #E2EBFA;\n",
              "      box-shadow: 0px 1px 2px rgba(60, 64, 67, 0.3), 0px 1px 3px 1px rgba(60, 64, 67, 0.15);\n",
              "      fill: #174EA6;\n",
              "    }\n",
              "\n",
              "    [theme=dark] .colab-df-convert {\n",
              "      background-color: #3B4455;\n",
              "      fill: #D2E3FC;\n",
              "    }\n",
              "\n",
              "    [theme=dark] .colab-df-convert:hover {\n",
              "      background-color: #434B5C;\n",
              "      box-shadow: 0px 1px 3px 1px rgba(0, 0, 0, 0.15);\n",
              "      filter: drop-shadow(0px 1px 2px rgba(0, 0, 0, 0.3));\n",
              "      fill: #FFFFFF;\n",
              "    }\n",
              "  </style>\n",
              "\n",
              "      <script>\n",
              "        const buttonEl =\n",
              "          document.querySelector('#df-be64706e-e8d7-46e6-8265-b3e89f08abfb button.colab-df-convert');\n",
              "        buttonEl.style.display =\n",
              "          google.colab.kernel.accessAllowed ? 'block' : 'none';\n",
              "\n",
              "        async function convertToInteractive(key) {\n",
              "          const element = document.querySelector('#df-be64706e-e8d7-46e6-8265-b3e89f08abfb');\n",
              "          const dataTable =\n",
              "            await google.colab.kernel.invokeFunction('convertToInteractive',\n",
              "                                                     [key], {});\n",
              "          if (!dataTable) return;\n",
              "\n",
              "          const docLinkHtml = 'Like what you see? Visit the ' +\n",
              "            '<a target=\"_blank\" href=https://colab.research.google.com/notebooks/data_table.ipynb>data table notebook</a>'\n",
              "            + ' to learn more about interactive tables.';\n",
              "          element.innerHTML = '';\n",
              "          dataTable['output_type'] = 'display_data';\n",
              "          await google.colab.output.renderOutput(dataTable, element);\n",
              "          const docLink = document.createElement('div');\n",
              "          docLink.innerHTML = docLinkHtml;\n",
              "          element.appendChild(docLink);\n",
              "        }\n",
              "      </script>\n",
              "    </div>\n",
              "  </div>\n",
              "  "
            ]
          },
          "metadata": {},
          "execution_count": 26
        }
      ]
    },
    {
      "cell_type": "markdown",
      "source": [
        "Data `revenue` telah berhasil dkelompokan per bulan. Selanjutnya saatnya menambahkan kolom `n_users` keadalam dataset."
      ],
      "metadata": {
        "id": "klGE4zLIrkIC"
      }
    },
    {
      "cell_type": "code",
      "source": [
        "report = cohorts.merge(cohort_sizes, on='first_buy_month')\n",
        "report.head()"
      ],
      "metadata": {
        "colab": {
          "base_uri": "https://localhost:8080/",
          "height": 206
        },
        "id": "RFEdZISljaqN",
        "outputId": "2facc399-d33c-4d6b-af70-8a89c80b1341"
      },
      "execution_count": null,
      "outputs": [
        {
          "output_type": "execute_result",
          "data": {
            "text/plain": [
              "  first_buy_month  buy_month  revenue  n_buyers\n",
              "0      2017-06-01 2017-06-01  9557.49      2023\n",
              "1      2017-06-01 2017-07-01   981.82      2023\n",
              "2      2017-06-01 2017-08-01   885.34      2023\n",
              "3      2017-06-01 2017-09-01  1931.30      2023\n",
              "4      2017-06-01 2017-10-01  2068.58      2023"
            ],
            "text/html": [
              "\n",
              "  <div id=\"df-81840527-e2d1-465c-bb59-81967e408081\">\n",
              "    <div class=\"colab-df-container\">\n",
              "      <div>\n",
              "<style scoped>\n",
              "    .dataframe tbody tr th:only-of-type {\n",
              "        vertical-align: middle;\n",
              "    }\n",
              "\n",
              "    .dataframe tbody tr th {\n",
              "        vertical-align: top;\n",
              "    }\n",
              "\n",
              "    .dataframe thead th {\n",
              "        text-align: right;\n",
              "    }\n",
              "</style>\n",
              "<table border=\"1\" class=\"dataframe\">\n",
              "  <thead>\n",
              "    <tr style=\"text-align: right;\">\n",
              "      <th></th>\n",
              "      <th>first_buy_month</th>\n",
              "      <th>buy_month</th>\n",
              "      <th>revenue</th>\n",
              "      <th>n_buyers</th>\n",
              "    </tr>\n",
              "  </thead>\n",
              "  <tbody>\n",
              "    <tr>\n",
              "      <th>0</th>\n",
              "      <td>2017-06-01</td>\n",
              "      <td>2017-06-01</td>\n",
              "      <td>9557.49</td>\n",
              "      <td>2023</td>\n",
              "    </tr>\n",
              "    <tr>\n",
              "      <th>1</th>\n",
              "      <td>2017-06-01</td>\n",
              "      <td>2017-07-01</td>\n",
              "      <td>981.82</td>\n",
              "      <td>2023</td>\n",
              "    </tr>\n",
              "    <tr>\n",
              "      <th>2</th>\n",
              "      <td>2017-06-01</td>\n",
              "      <td>2017-08-01</td>\n",
              "      <td>885.34</td>\n",
              "      <td>2023</td>\n",
              "    </tr>\n",
              "    <tr>\n",
              "      <th>3</th>\n",
              "      <td>2017-06-01</td>\n",
              "      <td>2017-09-01</td>\n",
              "      <td>1931.30</td>\n",
              "      <td>2023</td>\n",
              "    </tr>\n",
              "    <tr>\n",
              "      <th>4</th>\n",
              "      <td>2017-06-01</td>\n",
              "      <td>2017-10-01</td>\n",
              "      <td>2068.58</td>\n",
              "      <td>2023</td>\n",
              "    </tr>\n",
              "  </tbody>\n",
              "</table>\n",
              "</div>\n",
              "      <button class=\"colab-df-convert\" onclick=\"convertToInteractive('df-81840527-e2d1-465c-bb59-81967e408081')\"\n",
              "              title=\"Convert this dataframe to an interactive table.\"\n",
              "              style=\"display:none;\">\n",
              "        \n",
              "  <svg xmlns=\"http://www.w3.org/2000/svg\" height=\"24px\"viewBox=\"0 0 24 24\"\n",
              "       width=\"24px\">\n",
              "    <path d=\"M0 0h24v24H0V0z\" fill=\"none\"/>\n",
              "    <path d=\"M18.56 5.44l.94 2.06.94-2.06 2.06-.94-2.06-.94-.94-2.06-.94 2.06-2.06.94zm-11 1L8.5 8.5l.94-2.06 2.06-.94-2.06-.94L8.5 2.5l-.94 2.06-2.06.94zm10 10l.94 2.06.94-2.06 2.06-.94-2.06-.94-.94-2.06-.94 2.06-2.06.94z\"/><path d=\"M17.41 7.96l-1.37-1.37c-.4-.4-.92-.59-1.43-.59-.52 0-1.04.2-1.43.59L10.3 9.45l-7.72 7.72c-.78.78-.78 2.05 0 2.83L4 21.41c.39.39.9.59 1.41.59.51 0 1.02-.2 1.41-.59l7.78-7.78 2.81-2.81c.8-.78.8-2.07 0-2.86zM5.41 20L4 18.59l7.72-7.72 1.47 1.35L5.41 20z\"/>\n",
              "  </svg>\n",
              "      </button>\n",
              "      \n",
              "  <style>\n",
              "    .colab-df-container {\n",
              "      display:flex;\n",
              "      flex-wrap:wrap;\n",
              "      gap: 12px;\n",
              "    }\n",
              "\n",
              "    .colab-df-convert {\n",
              "      background-color: #E8F0FE;\n",
              "      border: none;\n",
              "      border-radius: 50%;\n",
              "      cursor: pointer;\n",
              "      display: none;\n",
              "      fill: #1967D2;\n",
              "      height: 32px;\n",
              "      padding: 0 0 0 0;\n",
              "      width: 32px;\n",
              "    }\n",
              "\n",
              "    .colab-df-convert:hover {\n",
              "      background-color: #E2EBFA;\n",
              "      box-shadow: 0px 1px 2px rgba(60, 64, 67, 0.3), 0px 1px 3px 1px rgba(60, 64, 67, 0.15);\n",
              "      fill: #174EA6;\n",
              "    }\n",
              "\n",
              "    [theme=dark] .colab-df-convert {\n",
              "      background-color: #3B4455;\n",
              "      fill: #D2E3FC;\n",
              "    }\n",
              "\n",
              "    [theme=dark] .colab-df-convert:hover {\n",
              "      background-color: #434B5C;\n",
              "      box-shadow: 0px 1px 3px 1px rgba(0, 0, 0, 0.15);\n",
              "      filter: drop-shadow(0px 1px 2px rgba(0, 0, 0, 0.3));\n",
              "      fill: #FFFFFF;\n",
              "    }\n",
              "  </style>\n",
              "\n",
              "      <script>\n",
              "        const buttonEl =\n",
              "          document.querySelector('#df-81840527-e2d1-465c-bb59-81967e408081 button.colab-df-convert');\n",
              "        buttonEl.style.display =\n",
              "          google.colab.kernel.accessAllowed ? 'block' : 'none';\n",
              "\n",
              "        async function convertToInteractive(key) {\n",
              "          const element = document.querySelector('#df-81840527-e2d1-465c-bb59-81967e408081');\n",
              "          const dataTable =\n",
              "            await google.colab.kernel.invokeFunction('convertToInteractive',\n",
              "                                                     [key], {});\n",
              "          if (!dataTable) return;\n",
              "\n",
              "          const docLinkHtml = 'Like what you see? Visit the ' +\n",
              "            '<a target=\"_blank\" href=https://colab.research.google.com/notebooks/data_table.ipynb>data table notebook</a>'\n",
              "            + ' to learn more about interactive tables.';\n",
              "          element.innerHTML = '';\n",
              "          dataTable['output_type'] = 'display_data';\n",
              "          await google.colab.output.renderOutput(dataTable, element);\n",
              "          const docLink = document.createElement('div');\n",
              "          docLink.innerHTML = docLinkHtml;\n",
              "          element.appendChild(docLink);\n",
              "        }\n",
              "      </script>\n",
              "    </div>\n",
              "  </div>\n",
              "  "
            ]
          },
          "metadata": {},
          "execution_count": 27
        }
      ]
    },
    {
      "cell_type": "markdown",
      "source": [
        "Kolom `n_buyers` telah berhasil ditambahkan. Selanjutnya saya akan menambahkan kolom `age` dan `ltv`. Kolom `age` memuat informasi usia suatu cohort pengguna dalam menggunakan produk tertentu. Periode usia yang akan saya gunakan pada analisa ini dalam bulan. Sedangkan kolom `ltv` adalah pendapatan rata-rata dari customer yang dikategorikan dalam suatu `cohort` dan periode `lifetime`."
      ],
      "metadata": {
        "id": "JjCj5zEuXsRa"
      }
    },
    {
      "cell_type": "code",
      "source": [
        "report['age'] = (report['buy_month'] - report['first_buy_month']) / np.timedelta64(1, 'M')\n",
        "report['age'] = report['age'].round().astype('int')\n",
        "report['ltv'] = report['revenue'] / report['n_buyers']\n",
        "report.head()"
      ],
      "metadata": {
        "colab": {
          "base_uri": "https://localhost:8080/",
          "height": 206
        },
        "id": "00ztfnYjsjzH",
        "outputId": "1b57ad82-0b0a-4d72-fc26-16c41a885952"
      },
      "execution_count": null,
      "outputs": [
        {
          "output_type": "execute_result",
          "data": {
            "text/plain": [
              "  first_buy_month  buy_month  revenue  n_buyers  age       ltv\n",
              "0      2017-06-01 2017-06-01  9557.49      2023    0  4.724414\n",
              "1      2017-06-01 2017-07-01   981.82      2023    1  0.485329\n",
              "2      2017-06-01 2017-08-01   885.34      2023    2  0.437637\n",
              "3      2017-06-01 2017-09-01  1931.30      2023    3  0.954671\n",
              "4      2017-06-01 2017-10-01  2068.58      2023    4  1.022531"
            ],
            "text/html": [
              "\n",
              "  <div id=\"df-eaec607d-14a9-4cb5-a0f4-7612b9eed0fd\">\n",
              "    <div class=\"colab-df-container\">\n",
              "      <div>\n",
              "<style scoped>\n",
              "    .dataframe tbody tr th:only-of-type {\n",
              "        vertical-align: middle;\n",
              "    }\n",
              "\n",
              "    .dataframe tbody tr th {\n",
              "        vertical-align: top;\n",
              "    }\n",
              "\n",
              "    .dataframe thead th {\n",
              "        text-align: right;\n",
              "    }\n",
              "</style>\n",
              "<table border=\"1\" class=\"dataframe\">\n",
              "  <thead>\n",
              "    <tr style=\"text-align: right;\">\n",
              "      <th></th>\n",
              "      <th>first_buy_month</th>\n",
              "      <th>buy_month</th>\n",
              "      <th>revenue</th>\n",
              "      <th>n_buyers</th>\n",
              "      <th>age</th>\n",
              "      <th>ltv</th>\n",
              "    </tr>\n",
              "  </thead>\n",
              "  <tbody>\n",
              "    <tr>\n",
              "      <th>0</th>\n",
              "      <td>2017-06-01</td>\n",
              "      <td>2017-06-01</td>\n",
              "      <td>9557.49</td>\n",
              "      <td>2023</td>\n",
              "      <td>0</td>\n",
              "      <td>4.724414</td>\n",
              "    </tr>\n",
              "    <tr>\n",
              "      <th>1</th>\n",
              "      <td>2017-06-01</td>\n",
              "      <td>2017-07-01</td>\n",
              "      <td>981.82</td>\n",
              "      <td>2023</td>\n",
              "      <td>1</td>\n",
              "      <td>0.485329</td>\n",
              "    </tr>\n",
              "    <tr>\n",
              "      <th>2</th>\n",
              "      <td>2017-06-01</td>\n",
              "      <td>2017-08-01</td>\n",
              "      <td>885.34</td>\n",
              "      <td>2023</td>\n",
              "      <td>2</td>\n",
              "      <td>0.437637</td>\n",
              "    </tr>\n",
              "    <tr>\n",
              "      <th>3</th>\n",
              "      <td>2017-06-01</td>\n",
              "      <td>2017-09-01</td>\n",
              "      <td>1931.30</td>\n",
              "      <td>2023</td>\n",
              "      <td>3</td>\n",
              "      <td>0.954671</td>\n",
              "    </tr>\n",
              "    <tr>\n",
              "      <th>4</th>\n",
              "      <td>2017-06-01</td>\n",
              "      <td>2017-10-01</td>\n",
              "      <td>2068.58</td>\n",
              "      <td>2023</td>\n",
              "      <td>4</td>\n",
              "      <td>1.022531</td>\n",
              "    </tr>\n",
              "  </tbody>\n",
              "</table>\n",
              "</div>\n",
              "      <button class=\"colab-df-convert\" onclick=\"convertToInteractive('df-eaec607d-14a9-4cb5-a0f4-7612b9eed0fd')\"\n",
              "              title=\"Convert this dataframe to an interactive table.\"\n",
              "              style=\"display:none;\">\n",
              "        \n",
              "  <svg xmlns=\"http://www.w3.org/2000/svg\" height=\"24px\"viewBox=\"0 0 24 24\"\n",
              "       width=\"24px\">\n",
              "    <path d=\"M0 0h24v24H0V0z\" fill=\"none\"/>\n",
              "    <path d=\"M18.56 5.44l.94 2.06.94-2.06 2.06-.94-2.06-.94-.94-2.06-.94 2.06-2.06.94zm-11 1L8.5 8.5l.94-2.06 2.06-.94-2.06-.94L8.5 2.5l-.94 2.06-2.06.94zm10 10l.94 2.06.94-2.06 2.06-.94-2.06-.94-.94-2.06-.94 2.06-2.06.94z\"/><path d=\"M17.41 7.96l-1.37-1.37c-.4-.4-.92-.59-1.43-.59-.52 0-1.04.2-1.43.59L10.3 9.45l-7.72 7.72c-.78.78-.78 2.05 0 2.83L4 21.41c.39.39.9.59 1.41.59.51 0 1.02-.2 1.41-.59l7.78-7.78 2.81-2.81c.8-.78.8-2.07 0-2.86zM5.41 20L4 18.59l7.72-7.72 1.47 1.35L5.41 20z\"/>\n",
              "  </svg>\n",
              "      </button>\n",
              "      \n",
              "  <style>\n",
              "    .colab-df-container {\n",
              "      display:flex;\n",
              "      flex-wrap:wrap;\n",
              "      gap: 12px;\n",
              "    }\n",
              "\n",
              "    .colab-df-convert {\n",
              "      background-color: #E8F0FE;\n",
              "      border: none;\n",
              "      border-radius: 50%;\n",
              "      cursor: pointer;\n",
              "      display: none;\n",
              "      fill: #1967D2;\n",
              "      height: 32px;\n",
              "      padding: 0 0 0 0;\n",
              "      width: 32px;\n",
              "    }\n",
              "\n",
              "    .colab-df-convert:hover {\n",
              "      background-color: #E2EBFA;\n",
              "      box-shadow: 0px 1px 2px rgba(60, 64, 67, 0.3), 0px 1px 3px 1px rgba(60, 64, 67, 0.15);\n",
              "      fill: #174EA6;\n",
              "    }\n",
              "\n",
              "    [theme=dark] .colab-df-convert {\n",
              "      background-color: #3B4455;\n",
              "      fill: #D2E3FC;\n",
              "    }\n",
              "\n",
              "    [theme=dark] .colab-df-convert:hover {\n",
              "      background-color: #434B5C;\n",
              "      box-shadow: 0px 1px 3px 1px rgba(0, 0, 0, 0.15);\n",
              "      filter: drop-shadow(0px 1px 2px rgba(0, 0, 0, 0.3));\n",
              "      fill: #FFFFFF;\n",
              "    }\n",
              "  </style>\n",
              "\n",
              "      <script>\n",
              "        const buttonEl =\n",
              "          document.querySelector('#df-eaec607d-14a9-4cb5-a0f4-7612b9eed0fd button.colab-df-convert');\n",
              "        buttonEl.style.display =\n",
              "          google.colab.kernel.accessAllowed ? 'block' : 'none';\n",
              "\n",
              "        async function convertToInteractive(key) {\n",
              "          const element = document.querySelector('#df-eaec607d-14a9-4cb5-a0f4-7612b9eed0fd');\n",
              "          const dataTable =\n",
              "            await google.colab.kernel.invokeFunction('convertToInteractive',\n",
              "                                                     [key], {});\n",
              "          if (!dataTable) return;\n",
              "\n",
              "          const docLinkHtml = 'Like what you see? Visit the ' +\n",
              "            '<a target=\"_blank\" href=https://colab.research.google.com/notebooks/data_table.ipynb>data table notebook</a>'\n",
              "            + ' to learn more about interactive tables.';\n",
              "          element.innerHTML = '';\n",
              "          dataTable['output_type'] = 'display_data';\n",
              "          await google.colab.output.renderOutput(dataTable, element);\n",
              "          const docLink = document.createElement('div');\n",
              "          docLink.innerHTML = docLinkHtml;\n",
              "          element.appendChild(docLink);\n",
              "        }\n",
              "      </script>\n",
              "    </div>\n",
              "  </div>\n",
              "  "
            ]
          },
          "metadata": {},
          "execution_count": 28
        }
      ]
    },
    {
      "cell_type": "markdown",
      "source": [
        "Semua kolom yang dibutuhkan telah ada. Saatnya membuat visualisasinya."
      ],
      "metadata": {
        "id": "E4M1T9J-uUa2"
      }
    },
    {
      "cell_type": "code",
      "source": [
        "report['first_buy_month'] = report['first_buy_month'].dt.to_period('M')\n",
        "\n",
        "result = report.pivot_table(\n",
        "    index = 'first_buy_month',\n",
        "    columns='age',\n",
        "    values='ltv',\n",
        "    aggfunc='mean'\n",
        ")\n",
        "\n",
        "plt.figure(figsize=(20, 9))\n",
        "plt.title('LTV by First Buy Cohort', size=18)\n",
        "sns.heatmap(\n",
        "    result,\n",
        "    fmt='.2f',\n",
        "    annot=True,\n",
        "    linewidths=1,\n",
        "    linecolor='black')\n",
        "\n",
        "plt.ylabel('Cohort', size=14)\n",
        "plt.xlabel('Lifetime in Month', size=14)\n",
        "plt.show()"
      ],
      "metadata": {
        "colab": {
          "base_uri": "https://localhost:8080/",
          "height": 575
        },
        "id": "LWM_uyv3s5kJ",
        "outputId": "f9de7ab9-2513-4b15-b85e-f65689e60a7c"
      },
      "execution_count": null,
      "outputs": [
        {
          "output_type": "display_data",
          "data": {
            "text/plain": [
              "<Figure size 1440x648 with 2 Axes>"
            ],
            "image/png": "[encoded data removed]"
          },
          "metadata": {
            "needs_background": "light"
          }
        }
      ]
    },
    {
      "cell_type": "markdown",
      "source": [
        "Dari visualisasi `heatmap` diatas menunjukan nilai `LTV` pada bulan pertama begitu tinggi, namun jatuh pada bulan kedua. Hal tersebut juga muncul saat analisa jumlah pesanan dan rata-rata pendapatan. Mungkin tim marketing memberikan promo yang sangat besar saat bulan pertama pengguna melakukan transaksi pertama kali.  "
      ],
      "metadata": {
        "id": "Y_NsrkEow1AJ"
      }
    },
    {
      "cell_type": "markdown",
      "source": [],
      "metadata": {
        "id": "Y8v1jsEPxrOw"
      }
    },
    {
      "cell_type": "markdown",
      "source": [
        "#### Kesimpulan Analisa Penjualan"
      ],
      "metadata": {
        "id": "262mjBU_xzjx"
      }
    },
    {
      "cell_type": "markdown",
      "source": [
        "Dari analisa jumlah pesanan, rata-rata pendapatan, dan LTV ada garis merah yang yang dapat ditarik. Dari segi jumlah pesanan dan LTV mengalami penurunan drastis setelah sebuah `cohort` memasuki bulan kedua. Hal ini mungkin karena adanya program promosi ketika bulan pertama pembeli melakukan transaksi. Hal ini baik untuk tim marketing, namun program perlu disesuaikan agar memicu perilaku pembelian yang lebih konsisten. Tidak hanya di bulan pertama.\n",
        "\n",
        "Hal kedua adalah sepertinya terjadi gangguan pada bulan kedua `Juni 2018` sehingga pembeli kesulitan untuk melakukan transaksi. Hal tersebut menyebabkan hanya ada 1 pesanan yang masuk. Pesanan yang masuk tersebut dari berasal dari `cohort pembelian` dibulan yang sama. Nilai rata-rata pendapatan dan `LTV`nya pun sama-sama `3.42` karena hanya ada 1 orang pengguna yang melakukan transaksi. "
      ],
      "metadata": {
        "id": "0KxAKP0JYEys"
      }
    },
    {
      "cell_type": "markdown",
      "source": [
        "### Analisa Pemasaran"
      ],
      "metadata": {
        "id": "oapoaf3ocp2R"
      }
    },
    {
      "cell_type": "markdown",
      "source": [
        "#### Analisa Biaya Pemasaran per Bulan Berdasarkan Sumber"
      ],
      "metadata": {
        "id": "R7tO4De4dNyJ"
      }
    },
    {
      "cell_type": "code",
      "source": [
        "costs['month'] = costs['dt'].astype('datetime64[M]')\n",
        "costs['month'] = costs['month'].dt.to_period('M')\n",
        "cost_by_source_per_m = costs.pivot_table(\n",
        "    index='month',\n",
        "    columns='source_id',\n",
        "    values='costs',\n",
        "    aggfunc='sum'\n",
        ")\n",
        "\n",
        "cost_by_source_per_m.plot(kind='bar', figsize=(18,12), grid=True)\n",
        "\n",
        "plt.ylabel('Marketing Cost', size=12)\n",
        "plt.xlabel('Month', size=12)\n",
        "plt.title('Marketing Cost per Month Based on Ads Source', size=15)\n",
        "\n",
        "plt.show()"
      ],
      "metadata": {
        "colab": {
          "base_uri": "https://localhost:8080/",
          "height": 767
        },
        "id": "wC1UqsdEahz6",
        "outputId": "c56991a5-46a8-414e-d992-0b3a540a7486"
      },
      "execution_count": null,
      "outputs": [
        {
          "output_type": "display_data",
          "data": {
            "text/plain": [
              "<Figure size 1296x864 with 1 Axes>"
            ],
            "image/png": "[encoded data removed]"
          },
          "metadata": {
            "needs_background": "light"
          }
        }
      ]
    },
    {
      "cell_type": "markdown",
      "source": [
        "Dari visualisasi data diatas memperlihatkan bahwa secara umum `source_id` nomer `3` merupakan sumber iklan dengan biaya terbesar, jauh diatas sumber biaya lainnya. Disusul oleh sumber iklan `4` dan `5` merupakan 3 besar sumber iklan dengan biaya terbesar.\n",
        "Dari segi tren. Biaya iklan mengalami peningkatan pada bulan `oktober`, `november`, dan `desember` tahun `2017`."
      ],
      "metadata": {
        "id": "0asZ9LhEtSmg"
      }
    },
    {
      "cell_type": "markdown",
      "source": [
        "#### Analisa Biaya Akuisisi Pelanggan Berdasarkan Sumber"
      ],
      "metadata": {
        "id": "8qVKVcd5dJOc"
      }
    },
    {
      "cell_type": "markdown",
      "source": [
        "Untuk melakukan analisa biaya akuisisi pelanggan berdasarkan sumber diperlukan kolom `source_id` yang berada pada dataframe `visits`. Karena itu saya akan menggabungkan `dataframe` orders dengan `visits` berdasarkan kolom `uid`."
      ],
      "metadata": {
        "id": "a1ySkH2z_i7e"
      }
    },
    {
      "cell_type": "code",
      "source": [
        "orders_cac = orders_ltv.merge(visits, on='uid')\n",
        "orders_cac.shape"
      ],
      "metadata": {
        "colab": {
          "base_uri": "https://localhost:8080/"
        },
        "id": "Ul7CE8DB76Jb",
        "outputId": "1c3a215e-608f-4b81-defc-aa7602d2e6cf"
      },
      "execution_count": null,
      "outputs": [
        {
          "output_type": "execute_result",
          "data": {
            "text/plain": [
              "(761807, 14)"
            ]
          },
          "metadata": {},
          "execution_count": 31
        }
      ]
    },
    {
      "cell_type": "code",
      "source": [
        "orders_cac.duplicated(subset=orders_ltv.columns).sum()"
      ],
      "metadata": {
        "colab": {
          "base_uri": "https://localhost:8080/"
        },
        "id": "o78tnQOw_JpP",
        "outputId": "b8971d4b-433e-46ba-d090-9350e645c60a"
      },
      "execution_count": null,
      "outputs": [
        {
          "output_type": "execute_result",
          "data": {
            "text/plain": [
              "711392"
            ]
          },
          "metadata": {},
          "execution_count": 32
        }
      ]
    },
    {
      "cell_type": "markdown",
      "source": [
        "Barisnya melonjak jauh lebih banyak terdapat banyak duplikat. Hal tersebut terjadi karena satu `user id` mengakses situs lebih banyak dibandingkan melakukan transaksi. Sehingga satu `user id` akan mengakses situs lebih dari satu sumber iklan. \n",
        "\n",
        "Oleh karena itu untuk menyederhanakan, saya akan menyaring data dengan kondisi waktu pembelian pengguna (`buy_ts`) lebih besar atau sama dengan waktu pengguna memulai sesi kunjungan(`start_ts`) dan lebih kecil atau sama dengan waktu pengguna mengakhiri sesi kunjungan(`end_ts`)  "
      ],
      "metadata": {
        "id": "rJooj5nmBrgu"
      }
    },
    {
      "cell_type": "code",
      "source": [
        "orders_cac = orders_cac.loc[(orders_cac['buy_ts'] >= orders_cac['start_ts']) & (orders_cac['buy_ts'] <= orders_cac['end_ts'])].copy()\n",
        "orders_cac.duplicated(subset=orders_ltv.columns).sum()"
      ],
      "metadata": {
        "colab": {
          "base_uri": "https://localhost:8080/"
        },
        "id": "wdmsI3pg-1kz",
        "outputId": "4372720b-7339-46f4-9acc-66a175a116c6"
      },
      "execution_count": null,
      "outputs": [
        {
          "output_type": "execute_result",
          "data": {
            "text/plain": [
              "0"
            ]
          },
          "metadata": {},
          "execution_count": 33
        }
      ]
    },
    {
      "cell_type": "markdown",
      "source": [
        "Penyaringan telah dilakukan dan data yang terduplikat telah tidak ada. Untuk dapat menghitung `CAC` berdasarkan sumber saya memerlukan jumlah user dan biaya dari masing-masing sumber iklan. Karena itu saya akan melakukan hal tersebut selanjutnya. "
      ],
      "metadata": {
        "id": "1GwY9GKGD3Bu"
      }
    },
    {
      "cell_type": "code",
      "source": [
        "n_users_by_source = orders_cac.groupby('source_id').agg({'uid':'nunique'}).reset_index()\n",
        "n_users_by_source.columns = ['source_id', 'n_users']\n",
        "costs_by_source = costs.groupby('source_id').agg({'costs':'sum'}).reset_index()\n",
        "cac_by_source = n_users_by_source.merge(costs_by_source, on='source_id', how='outer')\n",
        "cac_by_source = cac_by_source.fillna(0)\n",
        "cac_by_source['cac'] = cac_by_source['costs'] / cac_by_source['n_users']\n",
        "\n",
        "\n",
        "fig, ax = plt.subplots(figsize=(12, 6))\n",
        "plots = sns.barplot(data=cac_by_source, x='source_id', y='cac', ax=ax)\n",
        "\n",
        "for bar in plots.patches:\n",
        "   \n",
        "    plots.annotate(format(bar.get_height(), '.2f'),\n",
        "                   (bar.get_x() + bar.get_width() / 2,\n",
        "                    bar.get_height()), ha='center', va='center',\n",
        "                   size=8, xytext=(0, 8),\n",
        "                   textcoords='offset points')\n",
        "\n",
        "plt.title('CAC by Ads Source', size=16)\n",
        "plt.xlabel('Ads Source', size=14)\n",
        "plt.ylabel('CAC', size=14)\n",
        "plt.show()\n",
        "cac_by_source"
      ],
      "metadata": {
        "colab": {
          "base_uri": "https://localhost:8080/",
          "height": 693
        },
        "id": "Tmd_66I-dbEu",
        "outputId": "4f5aaaea-0722-4801-f6d7-8e4b089cb8cd"
      },
      "execution_count": null,
      "outputs": [
        {
          "output_type": "display_data",
          "data": {
            "text/plain": [
              "<Figure size 864x432 with 1 Axes>"
            ],
            "image/png": "[encoded data removed]"
          },
          "metadata": {
            "needs_background": "light"
          }
        },
        {
          "output_type": "execute_result",
          "data": {
            "text/plain": [
              "   source_id  n_users      costs        cac\n",
              "0          1     4336   20833.27   4.804721\n",
              "1          2     3693   42806.04  11.591129\n",
              "2          3     7584  141321.63  18.634181\n",
              "3          4     8205   61073.60   7.443461\n",
              "4          5     6449   51757.10   8.025601\n",
              "5          7        1       0.00   0.000000\n",
              "6          9      770    5517.49   7.165571\n",
              "7         10     1086    5822.49   5.361409"
            ],
            "text/html": [
              "\n",
              "  <div id=\"df-de85ea4c-6ee3-46b8-9f7b-2251c29c3255\">\n",
              "    <div class=\"colab-df-container\">\n",
              "      <div>\n",
              "<style scoped>\n",
              "    .dataframe tbody tr th:only-of-type {\n",
              "        vertical-align: middle;\n",
              "    }\n",
              "\n",
              "    .dataframe tbody tr th {\n",
              "        vertical-align: top;\n",
              "    }\n",
              "\n",
              "    .dataframe thead th {\n",
              "        text-align: right;\n",
              "    }\n",
              "</style>\n",
              "<table border=\"1\" class=\"dataframe\">\n",
              "  <thead>\n",
              "    <tr style=\"text-align: right;\">\n",
              "      <th></th>\n",
              "      <th>source_id</th>\n",
              "      <th>n_users</th>\n",
              "      <th>costs</th>\n",
              "      <th>cac</th>\n",
              "    </tr>\n",
              "  </thead>\n",
              "  <tbody>\n",
              "    <tr>\n",
              "      <th>0</th>\n",
              "      <td>1</td>\n",
              "      <td>4336</td>\n",
              "      <td>20833.27</td>\n",
              "      <td>4.804721</td>\n",
              "    </tr>\n",
              "    <tr>\n",
              "      <th>1</th>\n",
              "      <td>2</td>\n",
              "      <td>3693</td>\n",
              "      <td>42806.04</td>\n",
              "      <td>11.591129</td>\n",
              "    </tr>\n",
              "    <tr>\n",
              "      <th>2</th>\n",
              "      <td>3</td>\n",
              "      <td>7584</td>\n",
              "      <td>141321.63</td>\n",
              "      <td>18.634181</td>\n",
              "    </tr>\n",
              "    <tr>\n",
              "      <th>3</th>\n",
              "      <td>4</td>\n",
              "      <td>8205</td>\n",
              "      <td>61073.60</td>\n",
              "      <td>7.443461</td>\n",
              "    </tr>\n",
              "    <tr>\n",
              "      <th>4</th>\n",
              "      <td>5</td>\n",
              "      <td>6449</td>\n",
              "      <td>51757.10</td>\n",
              "      <td>8.025601</td>\n",
              "    </tr>\n",
              "    <tr>\n",
              "      <th>5</th>\n",
              "      <td>7</td>\n",
              "      <td>1</td>\n",
              "      <td>0.00</td>\n",
              "      <td>0.000000</td>\n",
              "    </tr>\n",
              "    <tr>\n",
              "      <th>6</th>\n",
              "      <td>9</td>\n",
              "      <td>770</td>\n",
              "      <td>5517.49</td>\n",
              "      <td>7.165571</td>\n",
              "    </tr>\n",
              "    <tr>\n",
              "      <th>7</th>\n",
              "      <td>10</td>\n",
              "      <td>1086</td>\n",
              "      <td>5822.49</td>\n",
              "      <td>5.361409</td>\n",
              "    </tr>\n",
              "  </tbody>\n",
              "</table>\n",
              "</div>\n",
              "      <button class=\"colab-df-convert\" onclick=\"convertToInteractive('df-de85ea4c-6ee3-46b8-9f7b-2251c29c3255')\"\n",
              "              title=\"Convert this dataframe to an interactive table.\"\n",
              "              style=\"display:none;\">\n",
              "        \n",
              "  <svg xmlns=\"http://www.w3.org/2000/svg\" height=\"24px\"viewBox=\"0 0 24 24\"\n",
              "       width=\"24px\">\n",
              "    <path d=\"M0 0h24v24H0V0z\" fill=\"none\"/>\n",
              "    <path d=\"M18.56 5.44l.94 2.06.94-2.06 2.06-.94-2.06-.94-.94-2.06-.94 2.06-2.06.94zm-11 1L8.5 8.5l.94-2.06 2.06-.94-2.06-.94L8.5 2.5l-.94 2.06-2.06.94zm10 10l.94 2.06.94-2.06 2.06-.94-2.06-.94-.94-2.06-.94 2.06-2.06.94z\"/><path d=\"M17.41 7.96l-1.37-1.37c-.4-.4-.92-.59-1.43-.59-.52 0-1.04.2-1.43.59L10.3 9.45l-7.72 7.72c-.78.78-.78 2.05 0 2.83L4 21.41c.39.39.9.59 1.41.59.51 0 1.02-.2 1.41-.59l7.78-7.78 2.81-2.81c.8-.78.8-2.07 0-2.86zM5.41 20L4 18.59l7.72-7.72 1.47 1.35L5.41 20z\"/>\n",
              "  </svg>\n",
              "      </button>\n",
              "      \n",
              "  <style>\n",
              "    .colab-df-container {\n",
              "      display:flex;\n",
              "      flex-wrap:wrap;\n",
              "      gap: 12px;\n",
              "    }\n",
              "\n",
              "    .colab-df-convert {\n",
              "      background-color: #E8F0FE;\n",
              "      border: none;\n",
              "      border-radius: 50%;\n",
              "      cursor: pointer;\n",
              "      display: none;\n",
              "      fill: #1967D2;\n",
              "      height: 32px;\n",
              "      padding: 0 0 0 0;\n",
              "      width: 32px;\n",
              "    }\n",
              "\n",
              "    .colab-df-convert:hover {\n",
              "      background-color: #E2EBFA;\n",
              "      box-shadow: 0px 1px 2px rgba(60, 64, 67, 0.3), 0px 1px 3px 1px rgba(60, 64, 67, 0.15);\n",
              "      fill: #174EA6;\n",
              "    }\n",
              "\n",
              "    [theme=dark] .colab-df-convert {\n",
              "      background-color: #3B4455;\n",
              "      fill: #D2E3FC;\n",
              "    }\n",
              "\n",
              "    [theme=dark] .colab-df-convert:hover {\n",
              "      background-color: #434B5C;\n",
              "      box-shadow: 0px 1px 3px 1px rgba(0, 0, 0, 0.15);\n",
              "      filter: drop-shadow(0px 1px 2px rgba(0, 0, 0, 0.3));\n",
              "      fill: #FFFFFF;\n",
              "    }\n",
              "  </style>\n",
              "\n",
              "      <script>\n",
              "        const buttonEl =\n",
              "          document.querySelector('#df-de85ea4c-6ee3-46b8-9f7b-2251c29c3255 button.colab-df-convert');\n",
              "        buttonEl.style.display =\n",
              "          google.colab.kernel.accessAllowed ? 'block' : 'none';\n",
              "\n",
              "        async function convertToInteractive(key) {\n",
              "          const element = document.querySelector('#df-de85ea4c-6ee3-46b8-9f7b-2251c29c3255');\n",
              "          const dataTable =\n",
              "            await google.colab.kernel.invokeFunction('convertToInteractive',\n",
              "                                                     [key], {});\n",
              "          if (!dataTable) return;\n",
              "\n",
              "          const docLinkHtml = 'Like what you see? Visit the ' +\n",
              "            '<a target=\"_blank\" href=https://colab.research.google.com/notebooks/data_table.ipynb>data table notebook</a>'\n",
              "            + ' to learn more about interactive tables.';\n",
              "          element.innerHTML = '';\n",
              "          dataTable['output_type'] = 'display_data';\n",
              "          await google.colab.output.renderOutput(dataTable, element);\n",
              "          const docLink = document.createElement('div');\n",
              "          docLink.innerHTML = docLinkHtml;\n",
              "          element.appendChild(docLink);\n",
              "        }\n",
              "      </script>\n",
              "    </div>\n",
              "  </div>\n",
              "  "
            ]
          },
          "metadata": {},
          "execution_count": 34
        }
      ]
    },
    {
      "cell_type": "markdown",
      "source": [
        "Dari diagram batang diatas memperlilhatkan bahwa `source_id` nomor `3` menjadi `source_id` dengan CAC tertinggi karena dengan biayanya yang tinggi, namun tidak berhasil mendapatkan jumlah `users` yang sama banyaknya. Sebaliknya `source_id` nomor `1` menjadi `source_id` dengan nilai `CAC` terendah yang artinya paling efisien. Karena dengan biaya yang relatif lebih rendah, berhasil mendapatkan `users` cukup banyak. \n",
        "Hasil ini dapat membantu tim marketing untuk menentukan sumber-sumber iklan mana saja yang perlu difokuskan."
      ],
      "metadata": {
        "id": "Yy06fYO2gW0P"
      }
    },
    {
      "cell_type": "markdown",
      "source": [
        "#### Analisa ROI dari Biaya Pemasaran"
      ],
      "metadata": {
        "id": "kP5UWHubdPv7"
      }
    },
    {
      "cell_type": "markdown",
      "source": [
        "Untuk melakukan hal analisa ROI biaya pemasaran berdasarkan `cohort`, jumlah pengguna (`n_users`) dan sumber iklan saya membutuhkan dulu data kolom `cohort` bulan pembelian pertama berdasarkan sumber iklan."
      ],
      "metadata": {
        "id": "tpZ-GqxUiCev"
      }
    },
    {
      "cell_type": "code",
      "source": [
        "cohort_sizes_cac = (\n",
        "    orders_cac.groupby(['first_buy_month', 'source_id'])\n",
        "    .agg({'uid':'nunique'})\n",
        "    .reset_index()\n",
        ") \n",
        "\n",
        "cohort_sizes_cac.columns = ['first_buy_month',\t'source_id',\t'n_users']\n",
        "cohort_sizes_cac.head()"
      ],
      "metadata": {
        "colab": {
          "base_uri": "https://localhost:8080/",
          "height": 206
        },
        "id": "GJffI6ZdFCJm",
        "outputId": "95a26be2-0c78-485f-cb03-1f3c80b2457f"
      },
      "execution_count": null,
      "outputs": [
        {
          "output_type": "execute_result",
          "data": {
            "text/plain": [
              "  first_buy_month  source_id  n_users\n",
              "0      2017-06-01          1      289\n",
              "1      2017-06-01          2      279\n",
              "2      2017-06-01          3      578\n",
              "3      2017-06-01          4      403\n",
              "4      2017-06-01          5      408"
            ],
            "text/html": [
              "\n",
              "  <div id=\"df-fccd6dfc-e0e4-4885-a7c0-1dd178aa2158\">\n",
              "    <div class=\"colab-df-container\">\n",
              "      <div>\n",
              "<style scoped>\n",
              "    .dataframe tbody tr th:only-of-type {\n",
              "        vertical-align: middle;\n",
              "    }\n",
              "\n",
              "    .dataframe tbody tr th {\n",
              "        vertical-align: top;\n",
              "    }\n",
              "\n",
              "    .dataframe thead th {\n",
              "        text-align: right;\n",
              "    }\n",
              "</style>\n",
              "<table border=\"1\" class=\"dataframe\">\n",
              "  <thead>\n",
              "    <tr style=\"text-align: right;\">\n",
              "      <th></th>\n",
              "      <th>first_buy_month</th>\n",
              "      <th>source_id</th>\n",
              "      <th>n_users</th>\n",
              "    </tr>\n",
              "  </thead>\n",
              "  <tbody>\n",
              "    <tr>\n",
              "      <th>0</th>\n",
              "      <td>2017-06-01</td>\n",
              "      <td>1</td>\n",
              "      <td>289</td>\n",
              "    </tr>\n",
              "    <tr>\n",
              "      <th>1</th>\n",
              "      <td>2017-06-01</td>\n",
              "      <td>2</td>\n",
              "      <td>279</td>\n",
              "    </tr>\n",
              "    <tr>\n",
              "      <th>2</th>\n",
              "      <td>2017-06-01</td>\n",
              "      <td>3</td>\n",
              "      <td>578</td>\n",
              "    </tr>\n",
              "    <tr>\n",
              "      <th>3</th>\n",
              "      <td>2017-06-01</td>\n",
              "      <td>4</td>\n",
              "      <td>403</td>\n",
              "    </tr>\n",
              "    <tr>\n",
              "      <th>4</th>\n",
              "      <td>2017-06-01</td>\n",
              "      <td>5</td>\n",
              "      <td>408</td>\n",
              "    </tr>\n",
              "  </tbody>\n",
              "</table>\n",
              "</div>\n",
              "      <button class=\"colab-df-convert\" onclick=\"convertToInteractive('df-fccd6dfc-e0e4-4885-a7c0-1dd178aa2158')\"\n",
              "              title=\"Convert this dataframe to an interactive table.\"\n",
              "              style=\"display:none;\">\n",
              "        \n",
              "  <svg xmlns=\"http://www.w3.org/2000/svg\" height=\"24px\"viewBox=\"0 0 24 24\"\n",
              "       width=\"24px\">\n",
              "    <path d=\"M0 0h24v24H0V0z\" fill=\"none\"/>\n",
              "    <path d=\"M18.56 5.44l.94 2.06.94-2.06 2.06-.94-2.06-.94-.94-2.06-.94 2.06-2.06.94zm-11 1L8.5 8.5l.94-2.06 2.06-.94-2.06-.94L8.5 2.5l-.94 2.06-2.06.94zm10 10l.94 2.06.94-2.06 2.06-.94-2.06-.94-.94-2.06-.94 2.06-2.06.94z\"/><path d=\"M17.41 7.96l-1.37-1.37c-.4-.4-.92-.59-1.43-.59-.52 0-1.04.2-1.43.59L10.3 9.45l-7.72 7.72c-.78.78-.78 2.05 0 2.83L4 21.41c.39.39.9.59 1.41.59.51 0 1.02-.2 1.41-.59l7.78-7.78 2.81-2.81c.8-.78.8-2.07 0-2.86zM5.41 20L4 18.59l7.72-7.72 1.47 1.35L5.41 20z\"/>\n",
              "  </svg>\n",
              "      </button>\n",
              "      \n",
              "  <style>\n",
              "    .colab-df-container {\n",
              "      display:flex;\n",
              "      flex-wrap:wrap;\n",
              "      gap: 12px;\n",
              "    }\n",
              "\n",
              "    .colab-df-convert {\n",
              "      background-color: #E8F0FE;\n",
              "      border: none;\n",
              "      border-radius: 50%;\n",
              "      cursor: pointer;\n",
              "      display: none;\n",
              "      fill: #1967D2;\n",
              "      height: 32px;\n",
              "      padding: 0 0 0 0;\n",
              "      width: 32px;\n",
              "    }\n",
              "\n",
              "    .colab-df-convert:hover {\n",
              "      background-color: #E2EBFA;\n",
              "      box-shadow: 0px 1px 2px rgba(60, 64, 67, 0.3), 0px 1px 3px 1px rgba(60, 64, 67, 0.15);\n",
              "      fill: #174EA6;\n",
              "    }\n",
              "\n",
              "    [theme=dark] .colab-df-convert {\n",
              "      background-color: #3B4455;\n",
              "      fill: #D2E3FC;\n",
              "    }\n",
              "\n",
              "    [theme=dark] .colab-df-convert:hover {\n",
              "      background-color: #434B5C;\n",
              "      box-shadow: 0px 1px 3px 1px rgba(0, 0, 0, 0.15);\n",
              "      filter: drop-shadow(0px 1px 2px rgba(0, 0, 0, 0.3));\n",
              "      fill: #FFFFFF;\n",
              "    }\n",
              "  </style>\n",
              "\n",
              "      <script>\n",
              "        const buttonEl =\n",
              "          document.querySelector('#df-fccd6dfc-e0e4-4885-a7c0-1dd178aa2158 button.colab-df-convert');\n",
              "        buttonEl.style.display =\n",
              "          google.colab.kernel.accessAllowed ? 'block' : 'none';\n",
              "\n",
              "        async function convertToInteractive(key) {\n",
              "          const element = document.querySelector('#df-fccd6dfc-e0e4-4885-a7c0-1dd178aa2158');\n",
              "          const dataTable =\n",
              "            await google.colab.kernel.invokeFunction('convertToInteractive',\n",
              "                                                     [key], {});\n",
              "          if (!dataTable) return;\n",
              "\n",
              "          const docLinkHtml = 'Like what you see? Visit the ' +\n",
              "            '<a target=\"_blank\" href=https://colab.research.google.com/notebooks/data_table.ipynb>data table notebook</a>'\n",
              "            + ' to learn more about interactive tables.';\n",
              "          element.innerHTML = '';\n",
              "          dataTable['output_type'] = 'display_data';\n",
              "          await google.colab.output.renderOutput(dataTable, element);\n",
              "          const docLink = document.createElement('div');\n",
              "          docLink.innerHTML = docLinkHtml;\n",
              "          element.appendChild(docLink);\n",
              "        }\n",
              "      </script>\n",
              "    </div>\n",
              "  </div>\n",
              "  "
            ]
          },
          "metadata": {},
          "execution_count": 35
        }
      ]
    },
    {
      "cell_type": "markdown",
      "source": [
        "Kolom `n_users` telah berhasil ditambahkan. selain kolom `n_users` saya juga perlu menambahkan kolom `age` yang menginformasikan usia suatu `cohort`."
      ],
      "metadata": {
        "id": "Z4-2oExFPXX9"
      }
    },
    {
      "cell_type": "code",
      "source": [
        "cohorts_cac = (\n",
        "    orders_cac.groupby(['first_buy_month', 'buy_month', 'source_id'])\n",
        "    .agg({'revenue':'sum'})\n",
        "    .reset_index()\n",
        ")\n",
        "\n",
        "report_cac = cohorts_cac.merge(cohort_sizes_cac, on=['first_buy_month', 'source_id'])\n",
        "\n",
        "report_cac['age'] = (\n",
        "    report_cac['buy_month'] - report_cac['first_buy_month']\n",
        ") / np.timedelta64(1, 'M')\n",
        "\n",
        "report_cac['age'] = report_cac['age'].round().astype('int')\n",
        "\n",
        "report_cac.head()"
      ],
      "metadata": {
        "colab": {
          "base_uri": "https://localhost:8080/",
          "height": 206
        },
        "id": "QNuWIy1LGLoo",
        "outputId": "dc73c65c-964e-46b2-d7b7-0fd90053118f"
      },
      "execution_count": null,
      "outputs": [
        {
          "output_type": "execute_result",
          "data": {
            "text/plain": [
              "  first_buy_month  buy_month  source_id  revenue  n_users  age\n",
              "0      2017-06-01 2017-06-01          1  1264.19      289    0\n",
              "1      2017-06-01 2017-07-01          1    43.54      289    1\n",
              "2      2017-06-01 2017-08-01          1    88.09      289    2\n",
              "3      2017-06-01 2017-09-01          1    99.51      289    3\n",
              "4      2017-06-01 2017-10-01          1   203.05      289    4"
            ],
            "text/html": [
              "\n",
              "  <div id=\"df-e160a4c0-84ea-4937-89f5-863eec6ca545\">\n",
              "    <div class=\"colab-df-container\">\n",
              "      <div>\n",
              "<style scoped>\n",
              "    .dataframe tbody tr th:only-of-type {\n",
              "        vertical-align: middle;\n",
              "    }\n",
              "\n",
              "    .dataframe tbody tr th {\n",
              "        vertical-align: top;\n",
              "    }\n",
              "\n",
              "    .dataframe thead th {\n",
              "        text-align: right;\n",
              "    }\n",
              "</style>\n",
              "<table border=\"1\" class=\"dataframe\">\n",
              "  <thead>\n",
              "    <tr style=\"text-align: right;\">\n",
              "      <th></th>\n",
              "      <th>first_buy_month</th>\n",
              "      <th>buy_month</th>\n",
              "      <th>source_id</th>\n",
              "      <th>revenue</th>\n",
              "      <th>n_users</th>\n",
              "      <th>age</th>\n",
              "    </tr>\n",
              "  </thead>\n",
              "  <tbody>\n",
              "    <tr>\n",
              "      <th>0</th>\n",
              "      <td>2017-06-01</td>\n",
              "      <td>2017-06-01</td>\n",
              "      <td>1</td>\n",
              "      <td>1264.19</td>\n",
              "      <td>289</td>\n",
              "      <td>0</td>\n",
              "    </tr>\n",
              "    <tr>\n",
              "      <th>1</th>\n",
              "      <td>2017-06-01</td>\n",
              "      <td>2017-07-01</td>\n",
              "      <td>1</td>\n",
              "      <td>43.54</td>\n",
              "      <td>289</td>\n",
              "      <td>1</td>\n",
              "    </tr>\n",
              "    <tr>\n",
              "      <th>2</th>\n",
              "      <td>2017-06-01</td>\n",
              "      <td>2017-08-01</td>\n",
              "      <td>1</td>\n",
              "      <td>88.09</td>\n",
              "      <td>289</td>\n",
              "      <td>2</td>\n",
              "    </tr>\n",
              "    <tr>\n",
              "      <th>3</th>\n",
              "      <td>2017-06-01</td>\n",
              "      <td>2017-09-01</td>\n",
              "      <td>1</td>\n",
              "      <td>99.51</td>\n",
              "      <td>289</td>\n",
              "      <td>3</td>\n",
              "    </tr>\n",
              "    <tr>\n",
              "      <th>4</th>\n",
              "      <td>2017-06-01</td>\n",
              "      <td>2017-10-01</td>\n",
              "      <td>1</td>\n",
              "      <td>203.05</td>\n",
              "      <td>289</td>\n",
              "      <td>4</td>\n",
              "    </tr>\n",
              "  </tbody>\n",
              "</table>\n",
              "</div>\n",
              "      <button class=\"colab-df-convert\" onclick=\"convertToInteractive('df-e160a4c0-84ea-4937-89f5-863eec6ca545')\"\n",
              "              title=\"Convert this dataframe to an interactive table.\"\n",
              "              style=\"display:none;\">\n",
              "        \n",
              "  <svg xmlns=\"http://www.w3.org/2000/svg\" height=\"24px\"viewBox=\"0 0 24 24\"\n",
              "       width=\"24px\">\n",
              "    <path d=\"M0 0h24v24H0V0z\" fill=\"none\"/>\n",
              "    <path d=\"M18.56 5.44l.94 2.06.94-2.06 2.06-.94-2.06-.94-.94-2.06-.94 2.06-2.06.94zm-11 1L8.5 8.5l.94-2.06 2.06-.94-2.06-.94L8.5 2.5l-.94 2.06-2.06.94zm10 10l.94 2.06.94-2.06 2.06-.94-2.06-.94-.94-2.06-.94 2.06-2.06.94z\"/><path d=\"M17.41 7.96l-1.37-1.37c-.4-.4-.92-.59-1.43-.59-.52 0-1.04.2-1.43.59L10.3 9.45l-7.72 7.72c-.78.78-.78 2.05 0 2.83L4 21.41c.39.39.9.59 1.41.59.51 0 1.02-.2 1.41-.59l7.78-7.78 2.81-2.81c.8-.78.8-2.07 0-2.86zM5.41 20L4 18.59l7.72-7.72 1.47 1.35L5.41 20z\"/>\n",
              "  </svg>\n",
              "      </button>\n",
              "      \n",
              "  <style>\n",
              "    .colab-df-container {\n",
              "      display:flex;\n",
              "      flex-wrap:wrap;\n",
              "      gap: 12px;\n",
              "    }\n",
              "\n",
              "    .colab-df-convert {\n",
              "      background-color: #E8F0FE;\n",
              "      border: none;\n",
              "      border-radius: 50%;\n",
              "      cursor: pointer;\n",
              "      display: none;\n",
              "      fill: #1967D2;\n",
              "      height: 32px;\n",
              "      padding: 0 0 0 0;\n",
              "      width: 32px;\n",
              "    }\n",
              "\n",
              "    .colab-df-convert:hover {\n",
              "      background-color: #E2EBFA;\n",
              "      box-shadow: 0px 1px 2px rgba(60, 64, 67, 0.3), 0px 1px 3px 1px rgba(60, 64, 67, 0.15);\n",
              "      fill: #174EA6;\n",
              "    }\n",
              "\n",
              "    [theme=dark] .colab-df-convert {\n",
              "      background-color: #3B4455;\n",
              "      fill: #D2E3FC;\n",
              "    }\n",
              "\n",
              "    [theme=dark] .colab-df-convert:hover {\n",
              "      background-color: #434B5C;\n",
              "      box-shadow: 0px 1px 3px 1px rgba(0, 0, 0, 0.15);\n",
              "      filter: drop-shadow(0px 1px 2px rgba(0, 0, 0, 0.3));\n",
              "      fill: #FFFFFF;\n",
              "    }\n",
              "  </style>\n",
              "\n",
              "      <script>\n",
              "        const buttonEl =\n",
              "          document.querySelector('#df-e160a4c0-84ea-4937-89f5-863eec6ca545 button.colab-df-convert');\n",
              "        buttonEl.style.display =\n",
              "          google.colab.kernel.accessAllowed ? 'block' : 'none';\n",
              "\n",
              "        async function convertToInteractive(key) {\n",
              "          const element = document.querySelector('#df-e160a4c0-84ea-4937-89f5-863eec6ca545');\n",
              "          const dataTable =\n",
              "            await google.colab.kernel.invokeFunction('convertToInteractive',\n",
              "                                                     [key], {});\n",
              "          if (!dataTable) return;\n",
              "\n",
              "          const docLinkHtml = 'Like what you see? Visit the ' +\n",
              "            '<a target=\"_blank\" href=https://colab.research.google.com/notebooks/data_table.ipynb>data table notebook</a>'\n",
              "            + ' to learn more about interactive tables.';\n",
              "          element.innerHTML = '';\n",
              "          dataTable['output_type'] = 'display_data';\n",
              "          await google.colab.output.renderOutput(dataTable, element);\n",
              "          const docLink = document.createElement('div');\n",
              "          docLink.innerHTML = docLinkHtml;\n",
              "          element.appendChild(docLink);\n",
              "        }\n",
              "      </script>\n",
              "    </div>\n",
              "  </div>\n",
              "  "
            ]
          },
          "metadata": {},
          "execution_count": 36
        }
      ]
    },
    {
      "cell_type": "markdown",
      "source": [
        "Kolom `age` telah berhasil ditambahkan. Saatnya menambahkan kolom `CAC`, `LTV`, dan `roi` nya."
      ],
      "metadata": {
        "id": "CnYIy_m6QIWQ"
      }
    },
    {
      "cell_type": "code",
      "source": [
        "costs['month'] = costs['dt'].astype('datetime64[M]')\n",
        "monthly_cost_by_source = costs.groupby(['month', 'source_id']).agg({'costs':'sum'}).reset_index()\n",
        "report_cac = report_cac.merge(monthly_cost_by_source, left_on=['first_buy_month', 'source_id'] , right_on=['month', 'source_id'])\n",
        "report_cac['cac'] = report_cac['costs'] / report_cac['n_users']\n",
        "report_cac['ltv'] = report_cac['revenue'] / report_cac['n_users'] \n",
        "report_cac['roi'] = report_cac['ltv'] / report_cac['cac']\n",
        "\n",
        "report_cac['first_buy_month'] = report_cac['first_buy_month'].dt.to_period('M') \n",
        "\n",
        "report_cac.head()"
      ],
      "metadata": {
        "colab": {
          "base_uri": "https://localhost:8080/",
          "height": 206
        },
        "id": "8dzdn3C6QHNk",
        "outputId": "fb402a21-67bc-4b31-c6d5-8d4f846bfc75"
      },
      "execution_count": null,
      "outputs": [
        {
          "output_type": "execute_result",
          "data": {
            "text/plain": [
              "  first_buy_month  buy_month  source_id  revenue  n_users  age      month  \\\n",
              "0      2017-06-01 2017-06-01          1  1264.19      289    0 2017-06-01   \n",
              "1      2017-06-01 2017-07-01          1    43.54      289    1 2017-06-01   \n",
              "2      2017-06-01 2017-08-01          1    88.09      289    2 2017-06-01   \n",
              "3      2017-06-01 2017-09-01          1    99.51      289    3 2017-06-01   \n",
              "4      2017-06-01 2017-10-01          1   203.05      289    4 2017-06-01   \n",
              "\n",
              "     costs       cac       ltv       roi  \n",
              "0  1125.61  3.894844  4.374360  1.123115  \n",
              "1  1125.61  3.894844  0.150657  0.038681  \n",
              "2  1125.61  3.894844  0.304810  0.078260  \n",
              "3  1125.61  3.894844  0.344325  0.088405  \n",
              "4  1125.61  3.894844  0.702595  0.180391  "
            ],
            "text/html": [
              "\n",
              "  <div id=\"df-f507979f-0d38-4565-8200-085c30811d74\">\n",
              "    <div class=\"colab-df-container\">\n",
              "      <div>\n",
              "<style scoped>\n",
              "    .dataframe tbody tr th:only-of-type {\n",
              "        vertical-align: middle;\n",
              "    }\n",
              "\n",
              "    .dataframe tbody tr th {\n",
              "        vertical-align: top;\n",
              "    }\n",
              "\n",
              "    .dataframe thead th {\n",
              "        text-align: right;\n",
              "    }\n",
              "</style>\n",
              "<table border=\"1\" class=\"dataframe\">\n",
              "  <thead>\n",
              "    <tr style=\"text-align: right;\">\n",
              "      <th></th>\n",
              "      <th>first_buy_month</th>\n",
              "      <th>buy_month</th>\n",
              "      <th>source_id</th>\n",
              "      <th>revenue</th>\n",
              "      <th>n_users</th>\n",
              "      <th>age</th>\n",
              "      <th>month</th>\n",
              "      <th>costs</th>\n",
              "      <th>cac</th>\n",
              "      <th>ltv</th>\n",
              "      <th>roi</th>\n",
              "    </tr>\n",
              "  </thead>\n",
              "  <tbody>\n",
              "    <tr>\n",
              "      <th>0</th>\n",
              "      <td>2017-06-01</td>\n",
              "      <td>2017-06-01</td>\n",
              "      <td>1</td>\n",
              "      <td>1264.19</td>\n",
              "      <td>289</td>\n",
              "      <td>0</td>\n",
              "      <td>2017-06-01</td>\n",
              "      <td>1125.61</td>\n",
              "      <td>3.894844</td>\n",
              "      <td>4.374360</td>\n",
              "      <td>1.123115</td>\n",
              "    </tr>\n",
              "    <tr>\n",
              "      <th>1</th>\n",
              "      <td>2017-06-01</td>\n",
              "      <td>2017-07-01</td>\n",
              "      <td>1</td>\n",
              "      <td>43.54</td>\n",
              "      <td>289</td>\n",
              "      <td>1</td>\n",
              "      <td>2017-06-01</td>\n",
              "      <td>1125.61</td>\n",
              "      <td>3.894844</td>\n",
              "      <td>0.150657</td>\n",
              "      <td>0.038681</td>\n",
              "    </tr>\n",
              "    <tr>\n",
              "      <th>2</th>\n",
              "      <td>2017-06-01</td>\n",
              "      <td>2017-08-01</td>\n",
              "      <td>1</td>\n",
              "      <td>88.09</td>\n",
              "      <td>289</td>\n",
              "      <td>2</td>\n",
              "      <td>2017-06-01</td>\n",
              "      <td>1125.61</td>\n",
              "      <td>3.894844</td>\n",
              "      <td>0.304810</td>\n",
              "      <td>0.078260</td>\n",
              "    </tr>\n",
              "    <tr>\n",
              "      <th>3</th>\n",
              "      <td>2017-06-01</td>\n",
              "      <td>2017-09-01</td>\n",
              "      <td>1</td>\n",
              "      <td>99.51</td>\n",
              "      <td>289</td>\n",
              "      <td>3</td>\n",
              "      <td>2017-06-01</td>\n",
              "      <td>1125.61</td>\n",
              "      <td>3.894844</td>\n",
              "      <td>0.344325</td>\n",
              "      <td>0.088405</td>\n",
              "    </tr>\n",
              "    <tr>\n",
              "      <th>4</th>\n",
              "      <td>2017-06-01</td>\n",
              "      <td>2017-10-01</td>\n",
              "      <td>1</td>\n",
              "      <td>203.05</td>\n",
              "      <td>289</td>\n",
              "      <td>4</td>\n",
              "      <td>2017-06-01</td>\n",
              "      <td>1125.61</td>\n",
              "      <td>3.894844</td>\n",
              "      <td>0.702595</td>\n",
              "      <td>0.180391</td>\n",
              "    </tr>\n",
              "  </tbody>\n",
              "</table>\n",
              "</div>\n",
              "      <button class=\"colab-df-convert\" onclick=\"convertToInteractive('df-f507979f-0d38-4565-8200-085c30811d74')\"\n",
              "              title=\"Convert this dataframe to an interactive table.\"\n",
              "              style=\"display:none;\">\n",
              "        \n",
              "  <svg xmlns=\"http://www.w3.org/2000/svg\" height=\"24px\"viewBox=\"0 0 24 24\"\n",
              "       width=\"24px\">\n",
              "    <path d=\"M0 0h24v24H0V0z\" fill=\"none\"/>\n",
              "    <path d=\"M18.56 5.44l.94 2.06.94-2.06 2.06-.94-2.06-.94-.94-2.06-.94 2.06-2.06.94zm-11 1L8.5 8.5l.94-2.06 2.06-.94-2.06-.94L8.5 2.5l-.94 2.06-2.06.94zm10 10l.94 2.06.94-2.06 2.06-.94-2.06-.94-.94-2.06-.94 2.06-2.06.94z\"/><path d=\"M17.41 7.96l-1.37-1.37c-.4-.4-.92-.59-1.43-.59-.52 0-1.04.2-1.43.59L10.3 9.45l-7.72 7.72c-.78.78-.78 2.05 0 2.83L4 21.41c.39.39.9.59 1.41.59.51 0 1.02-.2 1.41-.59l7.78-7.78 2.81-2.81c.8-.78.8-2.07 0-2.86zM5.41 20L4 18.59l7.72-7.72 1.47 1.35L5.41 20z\"/>\n",
              "  </svg>\n",
              "      </button>\n",
              "      \n",
              "  <style>\n",
              "    .colab-df-container {\n",
              "      display:flex;\n",
              "      flex-wrap:wrap;\n",
              "      gap: 12px;\n",
              "    }\n",
              "\n",
              "    .colab-df-convert {\n",
              "      background-color: #E8F0FE;\n",
              "      border: none;\n",
              "      border-radius: 50%;\n",
              "      cursor: pointer;\n",
              "      display: none;\n",
              "      fill: #1967D2;\n",
              "      height: 32px;\n",
              "      padding: 0 0 0 0;\n",
              "      width: 32px;\n",
              "    }\n",
              "\n",
              "    .colab-df-convert:hover {\n",
              "      background-color: #E2EBFA;\n",
              "      box-shadow: 0px 1px 2px rgba(60, 64, 67, 0.3), 0px 1px 3px 1px rgba(60, 64, 67, 0.15);\n",
              "      fill: #174EA6;\n",
              "    }\n",
              "\n",
              "    [theme=dark] .colab-df-convert {\n",
              "      background-color: #3B4455;\n",
              "      fill: #D2E3FC;\n",
              "    }\n",
              "\n",
              "    [theme=dark] .colab-df-convert:hover {\n",
              "      background-color: #434B5C;\n",
              "      box-shadow: 0px 1px 3px 1px rgba(0, 0, 0, 0.15);\n",
              "      filter: drop-shadow(0px 1px 2px rgba(0, 0, 0, 0.3));\n",
              "      fill: #FFFFFF;\n",
              "    }\n",
              "  </style>\n",
              "\n",
              "      <script>\n",
              "        const buttonEl =\n",
              "          document.querySelector('#df-f507979f-0d38-4565-8200-085c30811d74 button.colab-df-convert');\n",
              "        buttonEl.style.display =\n",
              "          google.colab.kernel.accessAllowed ? 'block' : 'none';\n",
              "\n",
              "        async function convertToInteractive(key) {\n",
              "          const element = document.querySelector('#df-f507979f-0d38-4565-8200-085c30811d74');\n",
              "          const dataTable =\n",
              "            await google.colab.kernel.invokeFunction('convertToInteractive',\n",
              "                                                     [key], {});\n",
              "          if (!dataTable) return;\n",
              "\n",
              "          const docLinkHtml = 'Like what you see? Visit the ' +\n",
              "            '<a target=\"_blank\" href=https://colab.research.google.com/notebooks/data_table.ipynb>data table notebook</a>'\n",
              "            + ' to learn more about interactive tables.';\n",
              "          element.innerHTML = '';\n",
              "          dataTable['output_type'] = 'display_data';\n",
              "          await google.colab.output.renderOutput(dataTable, element);\n",
              "          const docLink = document.createElement('div');\n",
              "          docLink.innerHTML = docLinkHtml;\n",
              "          element.appendChild(docLink);\n",
              "        }\n",
              "      </script>\n",
              "    </div>\n",
              "  </div>\n",
              "  "
            ]
          },
          "metadata": {},
          "execution_count": 37
        }
      ]
    },
    {
      "cell_type": "code",
      "source": [
        "output_cohort = report_cac.pivot_table(\n",
        "    index = ['first_buy_month'],\n",
        "    columns = 'age',\n",
        "    values = 'roi',\n",
        "    aggfunc = 'mean'\n",
        ")\n",
        "\n",
        "output_cohort = output_cohort.cumsum(axis=1).round(2)\n",
        "\n",
        "plt.figure(figsize=(14, 9))\n",
        "plt.title('ROI by First Buy Cohort', size=18)\n",
        "sns.heatmap(\n",
        "    output_cohort,\n",
        "    fmt='.2f',\n",
        "    annot=True,\n",
        "    linewidths=1,\n",
        "    linecolor='black')\n",
        "\n",
        "plt.ylabel('Cohort', size=14)\n",
        "plt.xlabel('Lifetime in Month', size=14)\n",
        "plt.show()"
      ],
      "metadata": {
        "colab": {
          "base_uri": "https://localhost:8080/",
          "height": 575
        },
        "id": "YoDnDe22MDpN",
        "outputId": "49f80688-fed1-41c5-eda4-c278bff124d8"
      },
      "execution_count": null,
      "outputs": [
        {
          "output_type": "display_data",
          "data": {
            "text/plain": [
              "<Figure size 1008x648 with 2 Axes>"
            ],
            "image/png": "[encoded data removed]"
          },
          "metadata": {
            "needs_background": "light"
          }
        }
      ]
    },
    {
      "cell_type": "markdown",
      "source": [
        "Jika dilihat berdasarkan `cohort`, banyak `cohort` yang belum mencapai titik pengembalian investasi pemasaran hingga bulan keenam. Hanya `cohort` bulan `September` tahun `2017` yang mencapai `ROI` pada bulan keempat, sisanya belum mencapai `ROI`."
      ],
      "metadata": {
        "id": "oFKCMBenmKjk"
      }
    },
    {
      "cell_type": "code",
      "source": [
        "output_source_id = report_cac.pivot_table(\n",
        "    index = ['source_id'],\n",
        "    columns = 'age',\n",
        "    values = 'roi',\n",
        "    aggfunc = 'mean'\n",
        ")\n",
        "\n",
        "output_source_id = output_source_id.cumsum(axis=1).round(2)\n",
        "\n",
        "plt.figure(figsize=(14, 9))\n",
        "plt.title('ROI by Ads Source', size=18)\n",
        "sns.heatmap(\n",
        "    output_source_id,\n",
        "    fmt='.2f',\n",
        "    annot=True,\n",
        "    linewidths=1,\n",
        "    linecolor='black')\n",
        "\n",
        "plt.ylabel('Cohort', size=14)\n",
        "plt.xlabel('Lifetime in Month', size=14)\n",
        "plt.show()"
      ],
      "metadata": {
        "colab": {
          "base_uri": "https://localhost:8080/",
          "height": 575
        },
        "id": "PqDhjHcLki_A",
        "outputId": "6e0ef3ea-d948-428f-a7b2-c61598218bf6"
      },
      "execution_count": null,
      "outputs": [
        {
          "output_type": "display_data",
          "data": {
            "text/plain": [
              "<Figure size 1008x648 with 2 Axes>"
            ],
            "image/png": "[encoded data removed]"
          },
          "metadata": {
            "needs_background": "light"
          }
        }
      ]
    },
    {
      "cell_type": "markdown",
      "source": [
        "Berdasarkan `source_id`, `source_id` nomor `1` menjadi `source_id` dengan waktu pengembalian tercepat. Pada bulan kedua `source_id` tersebut sudah berhasil menutup biayanya. Sayangnya hal tersebut tidak diikuti dengan `source_id` yang lain. Karena hingga bulan ke-11 hanya `source_id` nomor `2` yang berhasil mencapai titik `ROI`, sedangkan sisanya belum."
      ],
      "metadata": {
        "id": "WlOExMFtpDhI"
      }
    },
    {
      "cell_type": "markdown",
      "source": [
        "#### Kesimpulan Analisa Pemasaran"
      ],
      "metadata": {
        "id": "5K2JFi10D-J3"
      }
    },
    {
      "cell_type": "markdown",
      "source": [
        "Dari berbagai analisa pemasaran yang telah dilakukan sebelumnya ada beberapa hal yang dapat menjadi catatan. Dari analisa berbagai sumber hasilnya memperlihatkan terdapat rentang biaya yang cukup jauh dari berbagai sumber iklan.\n",
        "\n",
        "Hal kedua adalah, suatu sumber iklan yang berhasil mendatangkan banyak transaksi belum tentu memiliki biaya akuisisi yang baik. Karena itu perlunya memantau nilai `CAC`nya.  \n",
        "\n",
        "Yang terakhir, setelah dilihat `heatmap` `ROI`nya. Sumber iklan nomor `1`, yang merupakan sumber iklan dengan nilai `CAC` terendah menjadi sumber iklan yang berhasil mencapai `ROI` tercepat. \n",
        "\n",
        "Selain itu, ada beberapa tambahan analisa yang saya tambahkan untuk tim pemasaran."
      ],
      "metadata": {
        "id": "lls9GBWhECwG"
      }
    },
    {
      "cell_type": "code",
      "source": [
        "output_cohort2 = report_cac.pivot_table(\n",
        "    index = ['first_buy_month'],\n",
        "    columns = 'age',\n",
        "    values = 'roi',\n",
        "    aggfunc = 'mean'\n",
        ")\n",
        "\n",
        "output_cohort2_ = output_cohort2.cumsum(axis=1).mean(axis=0)\n",
        "\n",
        "output_cohort2_.plot(figsize=(8,4))\n",
        "plt.hlines(y=1, xmin=0, xmax=11, colors='red')\n",
        "\n",
        "plt.ylabel('ROI', size=12)\n",
        "plt.xlabel('Age', size=12)\n",
        "plt.title('Mean of ROI by First Buy Cohort ', size=15)\n",
        "\n",
        "plt.show()"
      ],
      "metadata": {
        "id": "wjmC9vIIoSqn",
        "colab": {
          "base_uri": "https://localhost:8080/",
          "height": 300
        },
        "outputId": "57ebcff8-4510-4d48-8ac1-64d9e7d643b3"
      },
      "execution_count": null,
      "outputs": [
        {
          "output_type": "display_data",
          "data": {
            "text/plain": [
              "<Figure size 576x288 with 1 Axes>"
            ],
            "image/png": "[encoded data removed]"
          },
          "metadata": {
            "needs_background": "light"
          }
        }
      ]
    },
    {
      "cell_type": "markdown",
      "source": [
        "rata-rata, seluruh `cohort` baru mencapai tingkat `ROI` dibulan ke-10."
      ],
      "metadata": {
        "id": "ApappqP4Ih92"
      }
    },
    {
      "cell_type": "code",
      "source": [
        "report_cac.head()\n",
        "result_ltv_ = report_cac.pivot_table(\n",
        "    index='first_buy_month',\n",
        "    columns='age',\n",
        "    values='ltv',\n",
        "    aggfunc='mean'\n",
        ")\n",
        "\n",
        "m10_ltv = result_ltv_.cumsum(axis=1).mean(axis=0)[10]\n",
        "print('Rata-rata LTV pada bulan ke-10 adalah ' + str(m10_ltv.round(2)))"
      ],
      "metadata": {
        "colab": {
          "base_uri": "https://localhost:8080/"
        },
        "id": "vor2t-ZsGu33",
        "outputId": "94cc0999-9801-401e-f966-c82772608582"
      },
      "execution_count": null,
      "outputs": [
        {
          "output_type": "stream",
          "name": "stdout",
          "text": [
            "Rata-rata LTV pada bulan ke-10 adalah 6.71\n"
          ]
        }
      ]
    },
    {
      "cell_type": "markdown",
      "source": [
        "Berdasarkan dari kedua data diatas, artinya tim pemasaran sebaiknya menganggarkan biaya pemasaran per pelanggan tidak melebihi 6.71. Hal ini perlu dilakukan jika ingin biaya iklan yang telah dibayarkan kembali pada bulan ke-10.\n",
        "\n",
        "Selain itu artinya tim pemasaran perlu kembali melakukan penyesuaian anggaran terhadap sumber-sumber iklan yang biaya pemasaran per pelanggan diatas nilai tersebut."
      ],
      "metadata": {
        "id": "pEMQVC4xNGpR"
      }
    }
  ],
  "metadata": {
    "kernelspec": {
      "display_name": "Python 3 (ipykernel)",
      "language": "python",
      "name": "python3"
    },
    "language_info": {
      "codemirror_mode": {
        "name": "ipython",
        "version": 3
      },
      "file_extension": ".py",
      "mimetype": "text/x-python",
      "name": "python",
      "nbconvert_exporter": "python",
      "pygments_lexer": "ipython3",
      "version": "3.9.5"
    },
    "toc": {
      "base_numbering": 1,
      "nav_menu": {
        "height": "405px",
        "width": "465px"
      },
      "number_sections": true,
      "sideBar": true,
      "skip_h1_title": true,
      "title_cell": "Table of Contents",
      "title_sidebar": "Contents",
      "toc_cell": false,
      "toc_position": {},
      "toc_section_display": true,
      "toc_window_display": false
    },
    "colab": {
      "provenance": [],
      "toc_visible": true,
      "include_colab_link": true
    }
  },
  "nbformat": 4,
  "nbformat_minor": 0
}